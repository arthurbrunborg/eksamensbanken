{
 "cells": [
  {
   "cell_type": "markdown",
   "metadata": {},
   "source": [
    "# Tidligere eksamener\n",
    "TDT4109-faget var helt nytt i 2019 og dermed finnes det ikke noen TDT4109 eksamener før dette. Gjør heller TDT4110 eksamene, ettersom de fremdeles er veldig relevante.\n",
    "\n",
    "Her er en overikt over nyttige funksjoner og metoder som blir oppgitt på eksamen i faget: [Useful_functions_and_methods.pdf](Useful_functions_and_methods.pdf)\n",
    "\n",
    "Eksamen | Programmerings-oppgaver i Jupyter | Oppgaver | Løsningsforslag | Kommentar\n",
    "--- | --- | --- | --- | ---\n",
    "TDT4109 2024 Kont | [Jupyter Notebook](eksamen_kont_2024/TDT4109%20kont24.ipynb) | [PDF](eksamen_kont_2024/tdt4109_s24_eksamen.pdf) | [PDF (teori-del)](eksamen_kont_2024/tdt4109_kont_2024_LF.pdf) |\n",
    "TDT4109 2023 Kont| | [PDF](eksamen_kont_2023/TDT4109_eksamen_kont_2023.pdf) | [PDF (teori-del)](eksamen_kont_2023/TDT4109_kont_2023_LF_uten_programmeringsoppgaver.pdf),<br /> [Jupyter Notebook (programmerings-del)](eksamen_kont_2023/trening.ipynb) | \n",
    "TDT4109 2022 Ordinær| | [PDF](eksamen_ord_2022/TDT4109_eksamen_h2022.pdf) | [PDF (teori-del)](eksamen_ord_2022/TDT4109_eksamen_h2022_Inspera_LF.pdf),<br /> [Jupyter Notebook (programmerings-del)](eksamen_ord_2022/TDT4109_h2022_LF_programmeringsoppgaver.ipynb)\n",
    "TDT4109 2022 Kont| | [PDF](eksamen_kont_2022/TDT4109_eksamen_kont_2022.pdf) | [PDF (teori-del)](eksamen_kont_2022/TDT4109_eksamen_kont_2022_LF.pdf)| \n",
    "TDT4109 2021 Ordinær| [Jupyter Notebook](eksamen_ord_2021/eksamen_ord_2021.ipynb)| [PDF](eksamen_ord_2021/TDT4109_eksamen_h2021.pdf) | [PDF](eksamen_ord_2021/eksamen_ord_2021_LF.pdf) | Hjemmeeksamen\n",
    "TDT4110 2019-2 Ordinær | [Jupyter Notebook](eksamen_ord_2019_2/eksamen_2019_2_programmering.ipynb) | [PDF](eksamen_ord_2019_2/eksamen_2019_2_oppgaver.pdf) | [PDF](eksamen_ord_2019_2/eksamen_2019_2_LF.pdf)\n",
    "TDT4110 2019-1 Ordinær  | [Jupyter Notebook](eksamen_ord_2019_1/eksamen_2019_1_programmering.ipynb) | [PDF](eksamen_ord_2019_1/eksamen_2019_1_oppgaver.pdf) | [PDF](eksamen_ord_2019_1/eksamen_2019_1_LF.pdf)\n",
    "TDT4110 2019 Kont | [Jupyter Notebook](eksamen_kont_2019/eksamen_kont_2019_programmering.ipynb) | [PDF](eksamen_kont_2019/eksamen_kont_2019_oppgaver.pdf) | [PDF](eksamen_kont_2019/eksamen_kont_2019_LF.pdf)\n",
    "TDT4110 2018-2 Ordinær  | [Jupyter Notebook](eksamen_ord_2018_2/eksamen_2018_2_programmering.ipynb) | [PDF](eksamen_ord_2018_2/eksamen_2018_2_oppgaver.pdf) | [PDF](eksamen_ord_2018_2/eksamen_2018_2_LF.pdf)\n",
    "TDT4110 2018-1 Ordinær  | [Jupyter Notebook](eksamen_ord_2018_1/eksamen_2018_1_programmering.ipynb) | [PDF](eksamen_ord_2018_1/eksamen_2018_1_oppgaver.pdf) | [PDF](eksamen_ord_2018_1/eksamen_2018_1_LF.pdf)\n",
    "TDT4110 2018 Kont | [Jupyter Notebook](eksamen_kont_2018/eksamen_kont_2018_programmering.ipynb) | [PDF (teori-del)](eksamen_kont_2018/eksamen_kont_2018_teori_oppgaver.pdf) | [PDF](eksamen_kont_2018/eksamen_kont_2018_LF.pdf)\n",
    "TDT4110 2017 Ordinær  | [Jupyter Notebook](eksamen_ord_2017/eksamen_2017_programmering.ipynb) | [PDF](eksamen_ord_2017/eksamen_2017_oppgaver.pdf) | [PDF](eksamen_ord_2017/eksamen_2017_LF.pdf)\n",
    "TDT4110 2017 Kont | [Jupyter Notebook](eksamen_kont_2017/eksamen_kont_2017_programmering.ipynb) | [PDF](eksamen_kont_2017/eksamen_kont_2017_oppgaver.pdf) | [PDF](eksamen_kont_2017/eksamen_kont_2017_LF.pdf)\n",
    "TDT4110 2016 Ordinær  | [Jupyter Notebook](eksamen_ord_2016/eksamen_2016_programmering.ipynb) | [PDF](eksamen_ord_2016/eksamen_2016_oppgaver.pdf) | [PDF](eksamen_ord_2016/eksamen_2016_LF.pdf)\n",
    "TDT4110 2015 Ordinær | [Jupyter Notebook](eksamen_ord_2015/eksamen_2015_programmering.ipynb) | [PDF](eksamen_ord_2015/eksamen_2015_oppgaver.pdf) | [PDF](eksamen_ord_2015/eksamen_2015_LF.pdf)\n",
    "TDT4110 2015 Kont | [Jupyter Notebook](eksamen_kont_2015/eksamen_kont_2015_programmering.ipynb) | [PDF](eksamen_kont_2015/eksamen_kont_2015_oppgaver.pdf) | [PDF](eksamen_kont_2015/eksamen_kont_2015_LF.pdf)\n",
    "TDT4110 2012 Ordinær | [Jupyter Notebook](eksamen_ord_2012/eksamen_2012_programmering.ipynb) | [PDF](eksamen_ord_2012/eksamen_2012_oppgaver.pdf) | \n",
    "\n",
    "Skulle du finne noen feil, så send gjerne en mail til *tdt4109-undass@idi.ntnu.no*.\n"
   ]
  }
 ],
 "metadata": {
  "language_info": {
   "name": "python"
  },
  "orig_nbformat": 4
 },
 "nbformat": 4,
 "nbformat_minor": 2
}

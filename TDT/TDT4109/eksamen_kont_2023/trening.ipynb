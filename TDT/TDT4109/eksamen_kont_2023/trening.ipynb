{
 "cells": [
  {
   "attachments": {},
   "cell_type": "markdown",
   "metadata": {},
   "source": [
    "# Touchtrening\n",
    "Som et ledd i videreutdanning har enkelte i staben bestemt seg for å endelig lære seg touch. Altså hvordan skrive på tastaturet uten på gløtte ned innimellom. Her skal det læres! Og ikke minst konkurreres. De ansatte trenger ikke ha øvd på de samme bokstavene. Ledelsen gir lønnspålegg basert på to kriterier - hvem har flest registrerte øvinger per bokstab, og gjennomført en øving på kortest tid for en gitt bokstav. Dette skal du programmere. I tillegg skal du lage et system system for å registrere øvinger, og lagre dem i tekstformat.\n",
    "\n",
    "Gjennomførte øvinger blir registrert i en dictionary *user_data*, med følgende struktur (vi kommer til å bruke verdiene i dette eksempelet i de senere oppgavene): "
   ]
  },
  {
   "cell_type": "code",
   "execution_count": 1,
   "metadata": {},
   "outputs": [],
   "source": [
    "\"\"\"Module providing solution to ITGK s2023.\"\"\"\n",
    "user_data = {\n",
    "    'Børge': [\n",
    "        ['e', 23, 26, 22, 18],\n",
    "        ['f', 27, 19, 33, 28, 25, 21],\n",
    "        ['h', 25, 20],\n",
    "        ['g', 22, 27, 23, 26, 30],\n",
    "        ['i', 30, 18, 21, 29, 24, 19, 27],\n",
    "    ],\n",
    "    'Sara': [\n",
    "        ['e', 21, 18],\n",
    "        ['k', 31, 24, 20, 22, 26],\n",
    "        ['h', 19, 27, 28, 23],\n",
    "        ['r', 26, 30, 17],\n",
    "        ['i', 28, 31, 16, 24, 25, 29],\n",
    "    ],\n",
    "    'Lars': [\n",
    "        ['e', 28, 30, 32, 25, 27, 29],\n",
    "        ['f', 23, 26, 22, 32, 21, 18, 19],\n",
    "    ],\n",
    "}\n"
   ]
  },
  {
   "attachments": {},
   "cell_type": "markdown",
   "metadata": {},
   "source": [
    "## 14) letter_value\n",
    "Hver ansatt har sine verdier i en todimensjonal liste, som vist over. Din første funksjon er å lage *letter_value*. Funksjonen tar inn en brukers totale todimensjonale liste *letter_list*, samt en bokstav *letter*. Funksjonen skal returnere verdiene som er lagret for den gitte bokstaven. Hvis bokstaven ikke finnes så skal funksjonen returnere en tom liste.\n",
    "\n",
    "Eksempel:\n",
    "```python\n",
    "letter_list =  [['e', 28, 30, 32, 25, 27, 29],\n",
    "               ['f', 23, 26, 22, 32, 21, 18, 19]]\n",
    "print(letter_value(letter_list, 'e'))\n",
    "# [28, 30, 32, 25, 27, 29]\n",
    "```"
   ]
  },
  {
   "cell_type": "code",
   "execution_count": 2,
   "metadata": {},
   "outputs": [
    {
     "name": "stdout",
     "output_type": "stream",
     "text": [
      "[28, 30, 32, 25, 27, 29]\n",
      "[]\n"
     ]
    }
   ],
   "source": [
    "def letter_value(_letter_list: list, letter: str) -> list:\n",
    "    \"\"\"Get values for a certain letter\"\"\"\n",
    "    for row in _letter_list:\n",
    "        if row[0] == letter:\n",
    "            return row[1:]\n",
    "    return []\n",
    "\n",
    "letter_list =  [['e', 28, 30, 32, 25, 27, 29],\n",
    "               ['f', 23, 26, 22, 32, 21, 18, 19]]\n",
    "print(letter_value(letter_list, 'e'))\n",
    "print(letter_value(letter_list, 'q'))"
   ]
  },
  {
   "attachments": {},
   "cell_type": "markdown",
   "metadata": {},
   "source": [
    "## 15) add_letter_test\n",
    "Funksjonen *add_letter_test* brukes til å registrere nye bokstavøvinger for en ansatt - vi bygger altså her opp den todimensjonale listen som ligger som verdi i *user_data*. Funksjonen tar inn en allerede eksisterende liste *letter_list* og utvider den med et nytt innslag for bokstaven *letter* og verdien *score*. Hvis bokstaven er registrert tidligere skal *score* legges til som en ny verdi til slutt i dennes liste. Funksjonen skal returnere den oppdatere listen.\n",
    "\n",
    "```python\n",
    "letter_list = []\n",
    "print(add_letter_test(letter_list, 'a', 23))\n",
    "# [['a', 23]]\n",
    "print(add_letter_test(letter_list, 'a', 24))\n",
    "# [['a', 23, 24]]\n",
    "print(add_letter_test(letter_list, 'b', 19))\n",
    "# [['a', 23, 24], ['b', 19]]\n",
    "\n",
    "```"
   ]
  },
  {
   "cell_type": "code",
   "execution_count": 3,
   "metadata": {},
   "outputs": [
    {
     "name": "stdout",
     "output_type": "stream",
     "text": [
      "[['a', 23]]\n",
      "[['a', 23, 24]]\n",
      "[['a', 23, 24], ['b', 19]]\n"
     ]
    }
   ],
   "source": [
    "def add_letter_test(_letter_list: list, letter: str, score: int) ->list:\n",
    "    \"\"\"Adds a score to a certain letter\"\"\"\n",
    "    found = False\n",
    "    for bokstav_liste in _letter_list:\n",
    "        if bokstav_liste[0] == letter:\n",
    "            bokstav_liste.append(score)\n",
    "            found = True\n",
    "    if found is False:\n",
    "        _letter_list.append([letter, score])\n",
    "    return _letter_list\n",
    "\n",
    "letter_list = []\n",
    "print(add_letter_test(letter_list, 'a', 23))\n",
    "print(add_letter_test(letter_list, 'a', 24))\n",
    "print(add_letter_test(letter_list, 'b', 19))"
   ]
  },
  {
   "attachments": {},
   "cell_type": "markdown",
   "metadata": {},
   "source": [
    "## 16) The winner fakes it all: get_winner \n",
    "Det er to måter å være 'best' i denne konkurransen. Man kan ha øvet flest ganger på en gitt bokstav, eller du har oppnådd den korteste tiden (det laveste tallet). Funksjonen *get_winners* tar inn tre parametre: *user_data* inneholder den kjente datastrukturen, *quickest_or_most* er en streng som er enten \"quickest\" eller \"most\" - og aldri noe\n",
    "- Hvis quickest_or_most er \"quickest\" skal den returnere en streng for alle som har den raskeste verdien registrert for bokstaven i den siste parameteren *letter*.\n",
    "- Husk at ikke alle personer har øvd på alle bokstaver!\n",
    "- Hvis quickest_or_most er \"most\" skal funksjonen returnere en streng for alle som har øvd flest ganger på bokstaven i den siste parameteren *letter*.\n",
    "Følgende eksempel viser teksten som returneres, basert på verdiene i datastrukturen brukt tidligere:\n",
    "```python\n",
    ">>> print(get_winners(user_data, \"quickest\", \"e\"))\n",
    "Raskest for e er Børge, Sara med 18.\n",
    ">>> print(get_winners(user_data, \"quickest\", \"f\"))\n",
    "Raskest for f er Lars med 18.\n",
    ">>> print(get_winners(user_data, \"most\", \"e\"))\n",
    "Ivrigst for e er Lars med 6 forsøk.\n",
    ">>> print(get_winners(user_data, \"most\", \"f\"))\n",
    "Ivrigst for f er Lars med 7 forsøk.\n",
    "```"
   ]
  },
  {
   "cell_type": "code",
   "execution_count": 11,
   "metadata": {},
   "outputs": [
    {
     "name": "stdout",
     "output_type": "stream",
     "text": [
      "Raskest for e er Børge, Sara med 18.\n",
      "Raskest for f er Lars med 18.\n",
      "Ivrigst for e er Lars med 6 forsøk.\n",
      "Ivrigst for f er Lars med 7 forsøk.\n"
     ]
    }
   ],
   "source": [
    "def get_winners(_user_data: dict, quickest_or_most: str, letter: str):\n",
    "    \"\"\"Returns either quickest employee for a letter, or most persistent.\"\"\"\n",
    "    best = -1\n",
    "    winners = []\n",
    "\n",
    "    if quickest_or_most == 'quickest':\n",
    "        for name, v in _user_data.items():\n",
    "            # Så må vi sjekke om name har øvd på bokstaven. \n",
    "            # Hvis letter_value returnerer en tom liste vil min klage.\n",
    "            if (letter_value(v, letter) != []):\n",
    "                this_min_for_letter = min(letter_value(v, letter))\n",
    "                if best == -1 or this_min_for_letter < best:\n",
    "                    winners = [name]\n",
    "                    best = this_min_for_letter\n",
    "                elif this_min_for_letter == best:\n",
    "                    winners.append(name)\n",
    "        \n",
    "        return f\"Raskest for {letter} er {', '.join(winners)} med {best}.\"\n",
    "\n",
    "    elif quickest_or_most == 'most':\n",
    "        for name, v in _user_data.items():\n",
    "            this_amount_for_letter = len(letter_value(v, letter))\n",
    "            if this_amount_for_letter > best:\n",
    "                winners = [name]\n",
    "                best = this_amount_for_letter\n",
    "            elif this_amount_for_letter == best:\n",
    "                winners.append(name)\n",
    "        \n",
    "        return f\"Ivrigst for {letter} er {', '.join(winners)} med {best} forsøk.\"\n",
    "\n",
    "\n",
    "\n",
    "print(get_winners(user_data, \"quickest\", \"e\"))\n",
    "print(get_winners(user_data, \"quickest\", \"f\"))\n",
    "print(get_winners(user_data, \"most\", \"e\"))\n",
    "print(get_winners(user_data, \"most\", \"f\"))\n"
   ]
  },
  {
   "attachments": {},
   "cell_type": "markdown",
   "metadata": {},
   "source": [
    "## 17) Fil me in: store_data\n",
    " Skriv funksjonen *store_data(user_data)*. Funksjonen tar inn en *dictionary* med struktur som beskrevet tidligere.\n",
    " Funksjonen *store_data* lagrer denne til fil som skal hete **touch.txt** i samme katalog.\n",
    " Funksjonen skal skrive ut dataene til hver enkelt deltaker, samt hvem som er raskest for hver av bokstavene som er øvd på. Bokstavene trenger ikke skrives ut i alfabetisk rekkefølge. \n",
    " \n",
    " Eksempel (merk at alle seksjonen for en ansatt sine verdier alltid skal avsluttes med en linje med '---'):\n",
    "\n",
    "```\n",
    " navn1\n",
    " bokstav1:verdi1,verdi2\n",
    " bokstav2<...>\n",
    " ---\n",
    " navn2\n",
    " <...>\n",
    " ```\n",
    "\n",
    " Tekstversjonen av user_data vil se slik ut:\n",
    " ```\n",
    " Børge\n",
    "e:23,26,22,18\n",
    "f:27,19,33,28,25,21\n",
    "h:25,20\n",
    "g:22,27,23,26,30\n",
    "i:30,18,21,29,24,19,27\n",
    "---\n",
    "Sara\n",
    "e:21,18\n",
    "k:31,24,20,22,26\n",
    "h:19,27,28,23\n",
    "r:26,30,17\n",
    "i:28,31,16,24,25,29\n",
    "---\n",
    "Lars\n",
    "e:28,30,32,25,27,29\n",
    "f:23,26,22,32,21,18,19\n",
    "---\n",
    "Raskest for r er Sara med 17.\n",
    "Raskest for f er Lars med 18.\n",
    "Raskest for k er Sara med 20.\n",
    "Raskest for g er Børge med 22.\n",
    "Raskest for h er Sara med 19.\n",
    "Raskest for i er Sara med 16.\n",
    "Raskest for e er Børge, Sara med 18.\n",
    "\n",
    " ```"
   ]
  },
  {
   "cell_type": "code",
   "execution_count": 8,
   "metadata": {},
   "outputs": [
    {
     "name": "stdout",
     "output_type": "stream",
     "text": [
      "Børge\n",
      "e:23,26,22,18\n",
      "f:27,19,33,28,25,21\n",
      "h:25,20\n",
      "g:22,27,23,26,30\n",
      "i:30,18,21,29,24,19,27\n",
      "---\n",
      "Sara\n",
      "e:21,18\n",
      "k:31,24,20,22,26\n",
      "h:19,27,28,23\n",
      "r:26,30,17\n",
      "i:28,31,16,24,25,29\n",
      "---\n",
      "Lars\n",
      "e:28,30,32,25,27,29\n",
      "f:23,26,22,32,21,18,19\n",
      "---\n",
      "Raskest for r er Sara med 17.\n",
      "Raskest for i er Sara med 16.\n",
      "Raskest for f er Lars med 18.\n",
      "Raskest for k er Sara med 20.\n",
      "Raskest for h er Sara med 19.\n",
      "Raskest for e er Børge, Sara med 18.\n",
      "Raskest for g er Børge med 22.\n"
     ]
    }
   ],
   "source": [
    "def store_data(_user_data: dict):\n",
    "    \"\"\"Stores data to file, according to description.\"\"\"\n",
    "    with open(\"touch.txt\", \"w\", encoding='utf8') as f:\n",
    "        for person, data in _user_data.items():\n",
    "            f.write(person+\"\\n\")\n",
    "            for letter_line in data:\n",
    "                f.write(letter_line[0]+\":\"+\",\".join([str(x) for x in letter_line[1:]])+\"\\n\")\n",
    "            f.write(\"---\\n\")\n",
    "        all_letters = set()\n",
    "        for person_values in _user_data.values():\n",
    "            for letters in person_values:\n",
    "                all_letters.add(letters[0])\n",
    "        for letter in all_letters:\n",
    "            f.write(str(get_winners(user_data, \"quickest\", letter))+\"\\n\")\n",
    "\n",
    "store_data(user_data)\n",
    "# Under er ikke del av oppgaven.\n",
    "with open(\"touch.txt\", 'r') as f:\n",
    "    for line in f.readlines():\n",
    "        print(line.strip())"
   ]
  }
 ],
 "metadata": {
  "kernelspec": {
   "display_name": "Python 3",
   "language": "python",
   "name": "python3"
  },
  "language_info": {
   "codemirror_mode": {
    "name": "ipython",
    "version": 3
   },
   "file_extension": ".py",
   "mimetype": "text/x-python",
   "name": "python",
   "nbconvert_exporter": "python",
   "pygments_lexer": "ipython3",
   "version": "3.9.7"
  },
  "orig_nbformat": 4
 },
 "nbformat": 4,
 "nbformat_minor": 2
}

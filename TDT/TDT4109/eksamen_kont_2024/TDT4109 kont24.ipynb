{
 "cells": [
  {
   "cell_type": "markdown",
   "metadata": {},
   "source": [
    "# TDT4109 kont 2024 - programmeringsdel\n",
    "Denne delen består av flere oppgaver som vil kunne fungere sammen.\n",
    "- Husk at du gjerne kan bruke funksjoner fra tidligere oppgaver selv om du skulle ha hoppet over dem!\n",
    "- Husk også at du har 'fuskelappen' tilgjengelig.\n",
    "\n",
    "## Oppgavens tema\n",
    "Oppgavene dreier seg om forberedelser til en tur. Det er jo mange ting som må pakkes til en tur, og da er det greit å ha en oversikt over hva som er pakket. I alle fall i prinsippet!\n"
   ]
  },
  {
   "cell_type": "code",
   "execution_count": 20,
   "metadata": {},
   "outputs": [],
   "source": [
    "# Alle 'ting' er som skal pakkes er knyttet til én eller flere kategorier.\n",
    "things = {\n",
    "    'toalettsaker' : ['tannbørste', 'tannkrem'],\n",
    "    'ytterklær': ['jakke',\"bukse\"],\n",
    "    'isolasjon' : ['stillongs', 'ulltrøye'],\n",
    "    'mat': ['brød', 'melk', 'ost'],\n",
    "    'verktøy': ['hammer', 'skrutrekker', 'tannbørste']\n",
    "}\n",
    "\n",
    "# Personene som skal være med på turen pakker hver sine ting, som skal lagres i følgende struktur. \n",
    "# Hver person er en subliste, med navnet først og så de ulike tingene denne personen har pakket.\n",
    "packed = [['Børge', 'tannbørste', 'ost', 'bukse'],\n",
    "           ['Anna', 'tannkrem', 'brød', 'jakke'],\n",
    "           ['Ole', 'stillongs', 'melk', 'hammer'],\n",
    "           ['Emma', 'skrutrekker', 'tang', 'jakke']]"
   ]
  },
  {
   "cell_type": "markdown",
   "metadata": {},
   "source": [
    "\n",
    "\n",
    "Eksemplene i de påfølgende oppgavene bruker nettopp disse verdiene som utgangspunkt."
   ]
  },
  {
   "cell_type": "markdown",
   "metadata": {},
   "source": [
    "## Oppgave 1 - Hvem er med på tur! (participants)\n",
    "Det første vi trenger er å vite hvem som er med på turen. Skriv funksjonen *participants*.\n",
    "- Funksjonen skal ta inn listen *packed*. \n",
    "- Funksjonen skal returnere en liste med navnene til turens deltakere.\n",
    "\n",
    "Eksempel:\n",
    "```python\n",
    ">>> print(participants(packed))\n",
    "['Børge', 'Ole', 'Anna', 'Emma']\n",
    "```"
   ]
  },
  {
   "cell_type": "code",
   "execution_count": 13,
   "metadata": {},
   "outputs": [
    {
     "name": "stdout",
     "output_type": "stream",
     "text": [
      "['Børge', 'Anna', 'Ole', 'Emma']\n"
     ]
    }
   ],
   "source": [
    "def participants(packed:list) -> list:\n",
    "    out = []\n",
    "    for person in packed:\n",
    "        out.append(person[0])\n",
    "    return out\n",
    "\n",
    "print(participants(packed))\n"
   ]
  },
  {
   "cell_type": "markdown",
   "metadata": {},
   "source": [
    "# Oppgave 2 - hva har én person pakket (has_brought)\n",
    "Vi må også vite hva én av deltakerne har pakket. Skriv funksjonen *has_brought*.\n",
    "- Funksjonen skal ta inn en streng med et navn, samt listen *packed*.\n",
    "- Funksjonen skal returnere en liste med tingene som denne personen har pakket.\n",
    "\n",
    "Eksempel:\n",
    "```python\n",
    ">>> print(has_brought(\"Børge\", packed))\n",
    "['tannbørste', 'ost', 'bukse']\n",
    "```\n"
   ]
  },
  {
   "cell_type": "code",
   "execution_count": 14,
   "metadata": {},
   "outputs": [
    {
     "name": "stdout",
     "output_type": "stream",
     "text": [
      "Børge: ['tannbørste', 'ost', 'bukse']\n"
     ]
    }
   ],
   "source": [
    "def has_brought(name:str, packed:list) -> list:\n",
    "    for person in packed:\n",
    "        if person[0] == name:\n",
    "            return person[1:]\n",
    "    return []\n",
    "\n",
    "print(\"Børge:\", has_brought(\"Børge\", packed))\n"
   ]
  },
  {
   "cell_type": "markdown",
   "metadata": {},
   "source": [
    "## Oppgave 3 - Unike ting! (unique_items)\n",
    "Nå må vi vite om alle de ulike tingene som skal bli med. Skriv funksjonen *unique_items*.\n",
    "- Funksjonen skal ta inn dictionarien *things*.\n",
    "- Man skal kun ha tingene, ikke typen hver ting er knyttet til.\n",
    "- Funksjonen skal returnere en liste over alle de unike tingene man kan ha med.\n",
    "- Én ting kan være del av flere ulike typer, eksempelvis kan en tannbørste være både toalettsaker og verktøy. Alle ting skal bare være med én gang.\n",
    "- Rekkefølgen på tingene som returneres er ikke viktig.\n",
    "\n",
    "Eksempel:\n",
    ">>> print(unique_items(things))\n",
    "['tannbørste', 'ost', 'bukse']\n",
    "[brød, tannbørste, skrutrekker, ulltrøye, ost, hammer, bukse, tannkrem, stillongs, melk, jakke]\n"
   ]
  },
  {
   "cell_type": "code",
   "execution_count": 15,
   "metadata": {},
   "outputs": [
    {
     "name": "stdout",
     "output_type": "stream",
     "text": [
      "Alle unike ting: bukse, ulltrøye, brød, ost, hammer, melk, tannbørste, skrutrekker, tannkrem, jakke, stillongs.\n"
     ]
    }
   ],
   "source": [
    "def unique_items(thingies: dict) -> list:\n",
    "    out = []\n",
    "    for hva in thingies.values():\n",
    "        out += hva\n",
    "    return list(set(out))\n",
    "\n",
    "print(\"Alle unike ting: \"+\", \".join(unique_items(things))+\".\")\n"
   ]
  },
  {
   "cell_type": "markdown",
   "metadata": {},
   "source": [
    "## Oppgave 4 - Tillatte ting (item_allowed)\n",
    "Det er bare lov til å pakke ting som er på listen, selvfølgelig! Derfor må vi ha en sjekk på om en ting er tillatt eller ikke. Skriv funksjonen *item_allowed*.\n",
    "- Funksjonen skal ta inn en streng (tingen) og dictionarien *things*.\n",
    "- Funksjonen skal returnere en *boolean*, *true* dersom tingen er tillatt og *false* hvis den ikke er det.\n",
    "\n",
    "Eksempel:\n",
    "```python\n",
    ">>> print(item_allowed(\"bok\", things))\n",
    "False\n",
    ">>> print(item_allowed(\"ost\", things))\n",
    "True\n",
    "```\n",
    "\n"
   ]
  },
  {
   "cell_type": "code",
   "execution_count": 16,
   "metadata": {},
   "outputs": [
    {
     "name": "stdout",
     "output_type": "stream",
     "text": [
      "bok tillatt: False\n",
      "ost tillatt: True\n"
     ]
    }
   ],
   "source": [
    "def item_allowed(item:str, thingies:dict) -> bool:\n",
    "    return item in unique_items(thingies)\n",
    "\n",
    "print(\"bok tillatt:\",item_allowed(\"bok\", things))\n",
    "print(\"ost tillatt:\",item_allowed(\"ost\", things))"
   ]
  },
  {
   "cell_type": "markdown",
   "metadata": {},
   "source": [
    "## Oppgave 5 - pakking! (pack_item)\n",
    "Nå skal en person få pakket en ting. Skriv funksjonen *pack_item*.\n",
    "- Funksjonen har tre parametre:\n",
    "    - Streng (navnet på personen)\n",
    "    - Streng (tingen som skal legges inn)\n",
    "    - Liste: (packed)\n",
    "- Funksjonen skal legge til tingen i sublisten til den riktige personen. Alle andre personers ting skal være uendret.\n",
    "- Funksjonen skal returnere en liste med oppdaterte verdier. \n",
    "- Dersom tingen ikke er lov til å ta med så skal tingen ikke legges til.\n",
    "- Funksjonen skal *ikke* endre på listen den henter inn.\n",
    "- Det er lov til å ta med flere ting av samme type, man kan jo pakke to bukser.\n",
    "- *things* er ikke med som parameter, men du kan forutsette at den kan leses.\n",
    "\n",
    "Eksempel:\n",
    "```python\n",
    ">>> packed2 = pack_item(\"Børge\", \"bukse\", packed)\n",
    ">>> print(\"Børge har pakket:\",has_brought(\"Børge\", packed2))\n",
    "Børge har pakket: ['tannbørste', 'ost', 'bukse', 'bukse']\n",
    "```"
   ]
  },
  {
   "cell_type": "code",
   "execution_count": 17,
   "metadata": {},
   "outputs": [
    {
     "name": "stdout",
     "output_type": "stream",
     "text": [
      "packed: [['Børge', 'tannbørste', 'ost', 'bukse'], ['Anna', 'tannkrem', 'brød', 'jakke'], ['Ole', 'stillongs', 'melk', 'hammer'], ['Emma', 'skrutrekker', 'tang', 'jakke']] \n",
      " packed2 [['Børge', 'tannbørste', 'ost', 'bukse', 'bukse'], ['Anna', 'tannkrem', 'brød', 'jakke'], ['Ole', 'stillongs', 'melk', 'hammer'], ['Emma', 'skrutrekker', 'tang', 'jakke']]\n",
      "Børge har pakket: ['tannbørste', 'ost', 'bukse', 'bukse']\n"
     ]
    }
   ],
   "source": [
    "def pack_item(name: str, item:str, packed:list) -> list:\n",
    "    if item not in unique_items(things): return []+packed\n",
    "    out = []\n",
    "    for person in packed:\n",
    "        if person[0] != name:\n",
    "            out.append(person)\n",
    "        else:\n",
    "            new_person = [name]\n",
    "            new_person += has_brought(name, packed)\n",
    "            new_person.append(item)\n",
    "            out.append(new_person)\n",
    "    return out\n",
    "\n",
    "packed2 = pack_item(\"Børge\", \"bukse\", packed)\n",
    "\n",
    "print(\"packed:\",packed,\"\\n\", \"packed2\",packed2)\n",
    "print(\"Børge har pakket:\",has_brought(\"Børge\", packed2))\n",
    "assert has_brought(\"Børge\", packed).count('bukse') == 1, \"packed er endret. Fy!\"\n",
    "assert has_brought(\"Børge\", packed2).count('bukse') == 2, \"Ikke pakket ekstra par bukser.\"\n"
   ]
  },
  {
   "cell_type": "markdown",
   "metadata": {},
   "source": [
    "## Oppgave 6 - Hva mangler (what_is_missing)\n",
    "For å kunne dra på tur må det være pakket minst én av hver ting. Skriv funksjonen *what_is_missing*.\n",
    "- Funksjonen skal ta inn dictionarien *things* og listen *packed*.\n",
    "- Funksjonen skal returnere en *liste* over tingene som mangler.\n",
    "\n",
    "Eksempel:\n",
    "```python\n",
    ">>> print(\"Mangler:\",what_is_missing(things, packed))\n",
    "Mangler: ['ulltrøye']\n",
    "```\n"
   ]
  },
  {
   "cell_type": "code",
   "execution_count": 18,
   "metadata": {},
   "outputs": [
    {
     "name": "stdout",
     "output_type": "stream",
     "text": [
      "Mangler: ['ulltrøye']\n"
     ]
    }
   ],
   "source": [
    "def what_is_missing(thingies: dict, packed: list) -> list:\n",
    "    items = unique_items(thingies)\n",
    "    persons = participants(packed)\n",
    "    for name in persons:\n",
    "        for person_packed_item in has_brought(name, packed):\n",
    "            if person_packed_item in items:\n",
    "                items.remove(person_packed_item)\n",
    "    return items\n",
    "\n",
    "print(\"Mangler:\",what_is_missing(things, packed))"
   ]
  },
  {
   "cell_type": "markdown",
   "metadata": {},
   "source": [
    "## Oppgave 7 - innlesing fra fil (add_all)\n",
    "- Til slutt skal det leses inn en fil med innhold som skal legges til. Skriv funksjonen *add_all*.\n",
    "- Funksjonen skal lese innholdet i filen *pakkeliste.txt*.\n",
    "- Funksjonen har én parameter:\n",
    "    - liste (already_packed)\n",
    "- Filen har to linjer, det er den *andre linjen* som har informasjonen. \n",
    "    Et eksempel på teksten på linje 2: *Børge:jakke,ost,Ole:ost,Anna:ost,paprika*\n",
    "- Ting som ikke er tillatt å ta med skal ikke legges til.\n",
    "- Funksjonen skal returnere en oppdatert liste over alt som nå er pakket.\n",
    "- Du kan forusette at det ikke er noen navn som også er ting.\n",
    "\n",
    "Eksempel:\n",
    "```python\n",
    ">>> updated = add_all(packed)\n",
    ">>> print(\"Børge pakker etter oppdatering:\", has_brought(\"Børge\", updated))\n",
    "Børge pakker etter oppdatering: ['tannbørste', 'ost', 'bukse', 'jakke', 'ost'] # jakke og ost er lagt til!\n",
    "```\n"
   ]
  },
  {
   "cell_type": "code",
   "execution_count": 19,
   "metadata": {},
   "outputs": [
    {
     "name": "stdout",
     "output_type": "stream",
     "text": [
      "Børge pakker etter oppdatering: ['tannbørste', 'ost', 'bukse', 'jakke', 'ost']\n"
     ]
    }
   ],
   "source": [
    "def add_all(already_packed:list) -> list:\n",
    "    with open(\"pakkeliste.txt\", encoding=\"utf-8\") as f:\n",
    "        string = f.readlines()[1]\n",
    "        person_split = string.split(\":\")\n",
    "        for i in range(len(person_split) - 1):\n",
    "            name = person_split[i].split(\",\")[-1]\n",
    "            stuff = person_split[i+1].split(\",\")\n",
    "            for item in stuff:\n",
    "                already_packed = pack_item(name, item, already_packed) \n",
    "    return already_packed\n",
    "\n",
    "    print(\"Etter å ha lest filen og lagt til:\", add_all(packed))\n",
    "\n",
    "updated = add_all(packed)\n",
    "print(\"Børge pakker etter oppdatering:\", has_brought(\"Børge\", updated))"
   ]
  }
 ],
 "metadata": {
  "kernelspec": {
   "display_name": "Python 3",
   "language": "python",
   "name": "python3"
  },
  "language_info": {
   "codemirror_mode": {
    "name": "ipython",
    "version": 3
   },
   "file_extension": ".py",
   "mimetype": "text/x-python",
   "name": "python",
   "nbconvert_exporter": "python",
   "pygments_lexer": "ipython3",
   "version": "3.12.7"
  }
 },
 "nbformat": 4,
 "nbformat_minor": 2
}

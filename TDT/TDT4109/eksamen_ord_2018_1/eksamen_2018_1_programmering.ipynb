{
 "cells": [
  {
   "cell_type": "markdown",
   "metadata": {},
   "source": [
    " \n",
    "\n",
    "***I denne versjonen har vi fjernet fjervalgsoppgavene som til vanlig teller 25% av eksamen. Topp prosentscore er da altså 75%.***\n",
    "\n",
    "# Eksamen 2018"
   ]
  },
  {
   "cell_type": "markdown",
   "metadata": {},
   "source": [
    "## Task 3 - multigames: beskrivelse"
   ]
  },
  {
   "cell_type": "markdown",
   "metadata": {},
   "source": [
    "Du\ter\tmed\ti\tarrangementskomitéen\tfor\tde\tårlige\tflerkamplekene\tsom\tarrangeres\ti\tbygården du\tbor\ti.\tAlle\tdeltakere\ter\tmed\tpå\tfem\tulike\tøvelser,\tog\tresultatene\tlagres\ti\ten\tfil\tpå\tfølgende format\t(se\togså\tnederst\ti\tfunksjonshjelpen\ttil\tvenstre):\n",
    "\n",
    "Name,\t\t\t\tPoker,\t\tHighjump,\t\tBalloonshooting,\tSausageEating,\t\tHoldBreath\n",
    "\n",
    "John,  8,\t\t\t\t\t\t\t\t\t1.67,\t\t\t\t\t\t17,\t\t\t\t\t\t\t\t\t\t\t\t\t\t23,\t\t\t\t\t\t\t\t\t\t\t\t\t2:01.65\n",
    "\n",
    "Lisa,\t\t\t\t12,\t\t\t\t\t\t\t\t1.30,\t\t\t\t\t\t12,\t\t\t\t\t\t\t\t\t\t\t\t\t\t13,\t\t\t\t\t\t\t\t\t\t\t\t\t1:13.02\n",
    "\n",
    "Per,\t\t\t\t\t8,\t\t\t\t\t\t\t\t\t1.55,\t\t\t\t\t\t8,\t\t\t\t\t\t\t\t\t\t\t\t\t\t\t0,\t\t\t\t\t\t\t\t\t\t\t\t\t\t1:51.35\n",
    "\n",
    "Nelly,\t\t\t2,\t\t\t\t\t\t\t\t\t1.34,\t\t\t\t\t\t9,\t\t\t\t\t\t\t\t\t\t\t\t\t\t\t17,\t\t\t\t\t\t\t\t\t\t\t\t\t0:31.18\n",
    "\n",
    "Jørn,\t\t\t\t5,\t\t\t\t\t\t\t\t\t1.87,\t\t\t\t\t\t13,\t\t\t\t\t\t\t\t\t\t\t\t\t\t5,\t\t\t\t\t\t\t\t\t\t\t\t\t\t2:01.65\n",
    "\n",
    "...\tlisten\tfortsetter\tmed\tén\tlinje\tfor\thver\tdeltaker.\tDu\tkan\tforutsette\tat\talle\tdeltakerne\thar verdier\tfor\talle\tøvelsene,\tselv\tom\tnoen\tav\tdem\tkan\tha\t0.\tDu\tkan\togså\tforutsette\tat\ti\tsenere oppgaver\tbetyr\thøyere\tverdi\ti\ten\tøvelse\tet\tBEDRE\tresultat.\n",
    "\n",
    "For\tå\tgi\tlesbarhet\thar\tdenne\tfilen\tlitt\tspesiell\tstruktur.\tHvert\telement\ter\tseparert\tmed\tet komma\t‘,’\tog\tet\t**variabelt**\tantall\tmellomrom\t(whitespace)\t‘    ‘.\n",
    "\n",
    "Deltakernes\tnavn\ter\tskrevet\ti\tførste\tkolonne.\t**Deltakernes\trekkefølge\ter\tukjent**. Tilsvarende\tinneholder\tden\tførste\traden\tnavnet\tpå\tøvelsene.\t**Øvelsenes\trekkefølge\tkan også\tvariere\t(men\tden\ter\tlik\tfor\talle\tdeltakerne)**.\tI\tde\tfølgende\toppgavene\tmå\tdere derfor\tvelge\ten\tløsning\tsom\ttar\thensyn\ttil\tat\tman\tikke\tkan\tvite\tat\tresultatene\tfra ballongskytingen\tkommer\ti\tkolonne\t3\tog\tliknende.\tDu\tkan\tderimot\tforutsette\tat\tresultatet\ttil hver\tdeltaker\ti\ten\tøvelse\ter\ti\tsamme\tkollonne\tsom\tøvelsens\tnavn.\n",
    "\n",
    "### Eksisterende\tfunksjon\tdu\tkan\tbruke\tved\tbehov\n",
    "\n",
    "Det\teksisterer\ten\tallerede\tkodet\tfunksjon\tdere\tkan\tbruke\tved\tbehov,\tkalt sort_list(mylist,elemnum).\tDen\ttar\tto\tparametre.\tDen\tførste\ter\ten\ttodimensjonal\tliste.\tDen andre\tparameteren\tbestemmer\thvilken\tkolonne\tlisten\tskal\tsorteres\tpå.\tFunksjonen returnerer\tden\tsamme\tlisten,\tmen\tmed\telementene\tsortert\tetter\tvalgt\telementnummer.Eksempel\tpå\tbruk\tav\tsort_list(mylist,elemnum):\tLegg\tmerke\ttil\tat\tden\tsorterer\tpå\tverdien\tav den\tandre\telementet\ti\thver\tsubliste\tved\tå\tkalle\tsort_list med parameteren 1.\n",
    "```python\n",
    ">>> sort_list([['John',8],['Lisa',12],['Per',8]],1)\n",
    "[['Lisa',12],['John',8],['Per',8]]\n",
    "#Her kom ['Lisa', 12] først siden 12 var det høyeste tallet\t\n",
    "```"
   ]
  },
  {
   "cell_type": "code",
   "execution_count": 1,
   "metadata": {
    "ExecuteTime": {
     "end_time": "2019-07-08T18:12:30.095359Z",
     "start_time": "2019-07-08T18:12:30.088710Z"
    }
   },
   "outputs": [],
   "source": [
    "def sort_list(mylist,elemnum):\n",
    "    return sorted(mylist,key=lambda l:l[elemnum], reverse=True)\n",
    "\n",
    "#Du trenger ikke henge deg opp i hvordan denne koden fungerer. Du kan benytte deg av den likevel.\n",
    "\n"
   ]
  },
  {
   "cell_type": "markdown",
   "metadata": {},
   "source": [
    "## Oppgave 3a - Programmering (5%)"
   ]
  },
  {
   "cell_type": "markdown",
   "metadata": {},
   "source": [
    "Skriv\tfunksjonen\t**read_file**\tsom\ttar\ten\tinn-parameter\t**filename**.\tDenne\tfunksjonen\tskal\tlese inn\ten\ttekstfil\t**filename**,\tsom\tbekriver\tresultatene\tfra\tårets\tflerkamp-konkurranse.Resultatene\ter\tlagret\ti\ttekstfilen\t*flerkamp.txt*,\tsom\tligger\ti\tdenne\tmappen.\tResultatene\ti\ttekstfilen\ter\tpå\tformatet\tbeskrevet over.\tFunksjonen\tskal\treturnere\tinnholdet\ti\ttekstfilen\ti\tform\tav\tén\tlang\tstreng.\tDersom\tfilen ikke\tfinnes\tskal\tfunksjonen\tskrive\tut\tfeilmeldingen\t\"Kan\tikke\tfinne\tfilen\tflerkamp.txt\"\ttil skjermen,\tog\treturnere\tverdien\t*None*.\n",
    "\n",
    "Eksempel\tpå\tkjøring\tav\tfunksjonen\tog\tutskrift\tav\treturverdi:\n",
    "```python\n",
    ">>> resultater = read_file('flerkamp.txt')\n",
    ">>> resultater\n",
    "'Name,    Poker,  Highjump,  Balloonshooting, SausageEating,  HoldBreath\\nJohn,    8,        1.67,      17,              23,             2:01.65\\nLisa,    12,        1.30,      12,              13,            1:13.02\\nPer,     8,         1.55,      8,               0,              1:51.35\\nNelly,   2,        1.34,      9,               17,             0:31.18\\nNora,    5,         1.87,      13,              5,             2:01.65\\n\n",
    "```"
   ]
  },
  {
   "cell_type": "code",
   "execution_count": 24,
   "metadata": {
    "ExecuteTime": {
     "end_time": "2019-07-08T18:12:30.122188Z",
     "start_time": "2019-07-08T18:12:30.097632Z"
    }
   },
   "outputs": [],
   "source": [
    "#skriv koden din her"
   ]
  },
  {
   "cell_type": "markdown",
   "metadata": {},
   "source": [
    "## Oppgave 3b - programmering (5%)"
   ]
  },
  {
   "cell_type": "markdown",
   "metadata": {},
   "source": [
    "Skriv\tfunksjonen\t**`list_from_string`**\tsom\ttar\tinn\tstrengen\t**txt**\tsom\tinn-parameter.\tForutsett at\t**txt**\thar\tet\tformat\ttilsvarende\tén\tenkelt\tlinje\ti\t*flerkamp.txt*,\tdvs.\tet\tsett\tmed\tverdier\t(navn og\tresultat\tper\tøvelse)\tseparert\tmed\tkomma\tog\tet\tvilkårlig\tantall\tmellomrom\t(whitespace). Funksjonen\tskal\treturnere\ten\tliste\tmed\tstrenger\tsom\tbeskriver\tde\tenkelte\tverdiene. Eventuelle\tmellomrom,\tlinjeskift\teller\ttabulatorer\t(whitespace)\ti\tstrengen\tmå\tfjernes\tfra hvert\telement\ti\tlisten\tfør\tlisten returneres.\n",
    "\n",
    "Eksempel på bruk:\n",
    "\n",
    "```python \n",
    ">>>> list_from_string(\"Lisa,  12,   1.30,   12,    13,  1:13.02\\n\")\n",
    "['Lisa','12','1.30','12','13','1:13.02']\n",
    "```"
   ]
  },
  {
   "cell_type": "code",
   "execution_count": 25,
   "metadata": {
    "ExecuteTime": {
     "end_time": "2019-07-08T18:12:30.218767Z",
     "start_time": "2019-07-08T18:12:30.188006Z"
    }
   },
   "outputs": [],
   "source": [
    "#skriv koden din her"
   ]
  },
  {
   "cell_type": "markdown",
   "metadata": {},
   "source": [
    "## Oppgave 3c - Programmering (5%)"
   ]
  },
  {
   "cell_type": "markdown",
   "metadata": {},
   "source": [
    "Skriv\tfunksjonen\t**`make_result_list`**\tsom\ttar\tinn\tstrengen\treturnert\tav\tfunksjonen\t**read_file**(Oppgave\t3a)\tsom\tinn-parameter.\tFunksjonen\t**`make_result_list`**\tskal\treturnere\ten\tto-dimensjonal\tliste\tder\thvert\tlisteelement\ter\ten\tliste\tsom\tinnholder\tverdiene\tfra\thver\tlinje\ti filen\t*flerkamp.txt*.\tBruk\tgjerne\tfunksjonen\t**`list_from_string`**\t(Oppgave\t3b)\ti\tløsningen\tdin.\n",
    "\n",
    "Eksempel\tpå\tbruk:\n",
    "```python\n",
    ">>> string=read_file('flerkamp.txt')\n",
    ">>> string\n",
    "'Name,    Poker,  Highjump,  Balloonshooting, SausageEating,  HoldBreath\\nJohn,    8,        1.67,      17,              23,             2:01.65\\nLisa,    12,        1.30,      12,              13,            1:13.02\\nPer,     8,         1.55,      8,               0,              1:51.35\\nNelly,   2,         1.34,      9,              17,             0:31.18\\nNora,    5,         1.87,      13,              5,              2:01.65'\n",
    ">>> results=make_result_list(string)\n",
    ">>> results\n",
    "[['Name','Poker','Highjump','Balloonshooting','SausageEating','HoldBreath'],['John','8','1.67','17','23','2:01.65'],['Lisa','12','1.30','12','13','1:13.02'],['Per','8','1.55','8','0','1:51.35'],['Nelly','2','1.34','9','17','0:31.18'],['Nora','5','1.87','13','5','2:01.65']]\n",
    "```"
   ]
  },
  {
   "cell_type": "code",
   "execution_count": 26,
   "metadata": {
    "ExecuteTime": {
     "end_time": "2019-07-08T18:12:30.250446Z",
     "start_time": "2019-07-08T18:12:30.222959Z"
    }
   },
   "outputs": [],
   "source": [
    "#skriv koden din her"
   ]
  },
  {
   "cell_type": "markdown",
   "metadata": {},
   "source": [
    "## Oppgave 3d - Programmering (6%)"
   ]
  },
  {
   "cell_type": "markdown",
   "metadata": {},
   "source": [
    "Skriv\tfunksjonen\t**`time_to_seconds`**\tsom\ttar\tstrengen\t**time**\tsom\tinn-parameter.\tStrengen\tangir\ten\tdeltakers\tsluttid\ti\ten\tøvelse\t(f.eks.\tholde\tpusten\tlengst\tmulig)\tog\tvil\tha følgende\tformat:\t*min:sek.hundredeler*.\tFunksjonen\tskal\tgjøre\tom\tstrengen\ttil\tet\tflyttall med\tformatet\t*sekunder.hundredeler*\tog\treturnere\tdette\tflyttallet.\tEksempel\tpå\tbruk:\n",
    "```python\n",
    ">>> time_to_seconds('2:01.65')\n",
    "121.65\n",
    ">>> print(type(time_to_seconds('2:21.65'))\n",
    "<class 'float'>\n",
    "```"
   ]
  },
  {
   "cell_type": "code",
   "execution_count": 27,
   "metadata": {
    "ExecuteTime": {
     "end_time": "2019-07-08T18:12:30.292560Z",
     "start_time": "2019-07-08T18:12:30.253757Z"
    }
   },
   "outputs": [],
   "source": [
    "#skriv koden din her"
   ]
  },
  {
   "cell_type": "markdown",
   "metadata": {},
   "source": [
    "## Oppgave 3e - Programmering (9%)"
   ]
  },
  {
   "cell_type": "markdown",
   "metadata": {},
   "source": [
    "Skriv funksjonen **`str_to_numbers`**\tsom\ttar\tinn\t**results**,\ten\tto-dimensjonal liste,\tsom\tparameter.\tFunksjonen\tskal\tkunne\tta\tinn\tden\tto-dimensjonale\tlisten\tsom returneres\tfra\tfunksjonen\t**`make_result_list`**\t(Oppgave\t3c)\tog\tgjøre\tom\ttall\tpå\tstrengformat til\theltall\teller\tflyttall.\tHvis\tet\telement\thar\tformatet\t‘2:23.56’\tskal\tdisse\tgjøres\tom\ttil\tantall sekunder\tog\tantall\thundredeler\t(altså\ther\t143.56\tsom\tflyttall).\tHvis\telementet\thar\tformatet '1.3'\tskal\tdet\tgjøres\tom\ttil\tet\tflyttall,\tmens\thvis\tstrengen\tbare\tinneholder\tet\ttall\tsom\t'12' skal\tden\tgjøres\tom\ttil\tet\theltall.\tFunksjonen\tstr_to_numbers\tskal\treturnere\tden\tformaterte(to-dimensjonale)\tlisten.\n",
    "\n",
    "Eksempel\tpå\tbruk:\n",
    "```python\n",
    ">>> #results inneholder resultatet fra oppgave 3c, og den har følgende format:\n",
    ">>> results #Dette er formatet fra oppgave 3c\n",
    "[['Name','Poker','Highjump','Balloonshooting','SausageEating','HoldBreath'],['John','8','1.67','17','23','2:01.65'],['Lisa','12','1.30','12','13','1:13.02'],['Per','8','1.55','8','0','1:51.35'],['Nelly','2','1.34','9','17','0:31.18'],['Nora','5','1.87','13','5','2:01.65']]\n",
    ">>> results=str_to_number(results)\n",
    ">>> results #Dette er results fra oppgave 3e\n",
    "[['Name','Poker','Highjump','Balloonshooting','SausageEating','HoldBreath'],['John',8,1.67,17,23,121.65],\n",
    " ['Lisa',12,1.3,12,13,73.02],['Per',8,1.55,8,0,111.35],['Nelly',2,1.34,9,17,31.18],\n",
    " ['Nora',5,1.87,13,5,121.65]\n",
    "```"
   ]
  },
  {
   "cell_type": "code",
   "execution_count": 28,
   "metadata": {
    "ExecuteTime": {
     "end_time": "2019-07-08T18:12:30.323772Z",
     "start_time": "2019-07-08T18:12:30.295841Z"
    }
   },
   "outputs": [],
   "source": [
    "#skriv svaret ditt her"
   ]
  },
  {
   "cell_type": "markdown",
   "metadata": {},
   "source": [
    "## Oppgave 3f – Programmering (5%)"
   ]
  },
  {
   "cell_type": "markdown",
   "metadata": {},
   "source": [
    "Skriv\tfunksjonen\t**`find_data`**,\tsom\thar\tinput-parametrene\t**event**,\t**name**\tog\t**results**.Parametrene\tinneholder,\ti\tden\trekkefølgen,\ten\tøvelse,\tdeltagerens\tnavn\tog\tresultatlisten\tfor en\tfullstendig\tflerkamps-konkurranse.\tDenne\tlisten\ter\tformattert\tslik\tsom\tden\treturneres fra\tfunksjonen **`str_to_numbers`**\t(i\toppgave\t3e).\tNavnet\tpå\tøvelsene\tog\tdeltagerne\ter\ti ukjent\trekkefølge.\n",
    "\n",
    "Funksjonen\tskal\tbruke\tlisten\ttil\tå\tfinne\tresultatet\tfor\ten\tdeltager\ti\tden\toppgitte\tøvelsen,\tog returnere\tdenne\tverdien.\n",
    "\n",
    "I\teksempelet\tunder\ter\tdet\tvist\thvordan\tresultatet\t(returverdien\tfra\t**`str_to_numbers`**)\tser\tut før\t**`find_data`**\tblir\tkjørt:\n",
    "```python\n",
    ">>>results\n",
    "[['Name','Poker','Highjump','Balloonshooting','SausageEating','HoldBreath'],['John',8,1.67,17,23,121.65],['Lisa',12,1.3,12,13,73.02],['Per',8,1.55,8,0,111.35],['Nelly',2,1.34,9,17,31.18],['Nora',5,1.87,13,5,121.65]]\n",
    ">>>find_data('SausageEating','John',results)\n",
    "23\n",
    "```"
   ]
  },
  {
   "cell_type": "code",
   "execution_count": 29,
   "metadata": {},
   "outputs": [],
   "source": [
    "#skriv koden din her"
   ]
  },
  {
   "cell_type": "markdown",
   "metadata": {},
   "source": [
    "## Oppgave 3g – Programmering (5%)"
   ]
  },
  {
   "cell_type": "markdown",
   "metadata": {},
   "source": [
    "Skriv\tfunksjonen\t**`event_results`**\tsom\ttar\tinn-parametrene\t**event**\tog\t**results**.\tParameteren event\ter\ten\tstreng\tsom\tangir\tén\tbestemt\tøvelse\t(f.eks.\tPoker),\tmens\tresults\tvil\tvære datastrukturen\tsom\treturneres\tav\tfunksjonen\t**`str_to_numbers`**\t(Oppgave\t3e).\tFunksjonen **`event_results`**\tskal\treturnere\ten\tto-dimensonal\tliste,\tslik\tsom\ti\teksemplet\tnedenfor.\tListen skal\tvære\tsortert\tetter\tresultat\tslik\tat\tvinneren\tav\tden\tangitte\tøvelsen\tog\thans/hennesresultat\tskal\tkommer\tførst\ti\tlisten,\tmens\ttaperen\tog\thans/hennes\tresultat\tkommer\tsist. Du\tmå\tgjerne\tbruke\tden\teksisterende\tfunksjonen\t**`sort_list`**\thvis\tdu\tønsker\tdet.\tDen\tstår beskrevet\ti\tstarten\tav\toppgave\t3, \tmen\toppsummert\tsorterer\tden\ten\ttodimensjonal\tliste\tliste list på\telementnummer\telem.\n",
    "```python\n",
    ">>>sort_list([['John',8],['Lisa',12],['Per',8]],1)\n",
    "[['Lisa',12],['John',8],['Per',8]]\n",
    "```\n",
    "```python\n",
    ">>>results # Fra oppgave 3e\n",
    "[['Name','Poker','Highjump','Balloonshooting','SausageEating','HoldBreath'],['John',8,1.67,17,23,121.65],['Lisa',12,1.3,12,\t13,73.02],['Per',8,1.55,8,0,111.35],['Nelly',2,1.34,9,17,31.18],['Nora',5,1.87,13,5,121.65]]\n",
    ">>>event_results('Poker',results)\n",
    "[['Lisa',12],['John',8],['Per',8],['Nora',5],['Nelly',2]\n",
    "```"
   ]
  },
  {
   "cell_type": "code",
   "execution_count": 30,
   "metadata": {},
   "outputs": [],
   "source": [
    "#skriv koden din her"
   ]
  }
 ],
 "metadata": {
  "kernelspec": {
   "display_name": "Python 3",
   "language": "python",
   "name": "python3"
  },
  "language_info": {
   "codemirror_mode": {
    "name": "ipython",
    "version": 3
   },
   "file_extension": ".py",
   "mimetype": "text/x-python",
   "name": "python",
   "nbconvert_exporter": "python",
   "pygments_lexer": "ipython3",
   "version": "3.7.3"
  },
  "toc": {
   "base_numbering": 1,
   "nav_menu": {},
   "number_sections": false,
   "sideBar": true,
   "skip_h1_title": false,
   "title_cell": "Table of Contents",
   "title_sidebar": "Contents",
   "toc_cell": false,
   "toc_position": {},
   "toc_section_display": true,
   "toc_window_display": false
  }
 },
 "nbformat": 4,
 "nbformat_minor": 2
}

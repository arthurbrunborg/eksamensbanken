{
 "cells": [
  {
   "cell_type": "markdown",
   "metadata": {},
   "source": [
    "## Oppgave 3 - Oppgavebeskrivelse"
   ]
  },
  {
   "cell_type": "markdown",
   "metadata": {},
   "source": [
    "## Auksjonshjelp\n",
    "\n",
    "En\tvenninne\tav\tdeg\tjobber\tdeltid\ti\tet\tlite\tauksjonsfirma.\tFirmaet\tholder\tauksjoner\tpå\tnett. Hun\thar\tfått\ti\toppdrag\tå\tprogrammere\ten\tløsning\tfor\tå\tholde\trede\tpå\tauksjonsdata.\tHun\thar kommet\tet\tstykke,\tmen\ter\tikke\thelt\ti\tmål.\tSiden\tdu\thar\ttatt\tkurs\ti\tprogrammering\thar\tdet\tnå blitt\tdin\toppgave\tå\thjelpe\thenne\tet\tstykke\tpå\tveien. \n",
    "\n",
    "## Oppgavens\tdatastruktur\n",
    "\n",
    "Du\tvil\ti\tdenne\toppgaven\tforholde\tdeg\ttil\ten\tdatastruktur\tsom\tbestår\tav\ten\ttodimensjonal liste,\tkalt\t**data**.\tDu\tvil\tsnart\tse\thvordan\tdu\tkan\thente\tden\tut,\tmen\tden\thar\tdette\tformatet:\n",
    "```\n",
    ">>> data\n",
    "[['Customer','vase','painting','bicycle','lego','tv'],\n",
    "['Per',100,0,200,0,1500],\n",
    "['Ida',110,50,200,0,1500],\n",
    "['Ottar',200,600,200,0,1700],\n",
    "['Dag',200,600,200,0,1700],\n",
    "['Lise',400,600,0,0,0]]\n",
    "```\n",
    "Første\telement\ti\tlisten\t*data*\ter\ten\tliste\tsom\tinneholder\t‘navnene’\tpå\talle\tgjenstandene\tsom auksjoneres\tut.\t**Gjenstandene\tstår\ti\ten\ttilfeldig\trekkefølge**\t–\tdu\tkan\taltså\tikke\tforvente at\tdu\tfinner\tgjenstanden\t‘vase’\tsom\telement\t1\tsom\tdet\tgjør\tover.\tDe\tresterende\telementene i\tlisten\tdata\ter\ten\tny\t‘subliste’\tmed\thver\tenkelt\tkundes\tnavn,\tog\tså\tderes\tbud\tpå\thvergjenstand.\tGjenstander\ten\tkunde\tikke\thar\tbydd\tpå\tvil\tstå\toppført\tmed\tbudverdi\t0.\t**Navnene står\ti\ttilfeldig\trekkefølge**,\tdu\tkan\taltså\tikke\tforvente\tat\tPer\tsine\tbud\tstår\ti\tdata[1]\tslikeksempelet\tover\tviser.\tDu\tkan\tderimot\tforvente\tat\tdersom\t‘vase’\ter\tpå\tplass\t1\ti\tdata[0],\tsåbefinner\thver\tkunde\tsitt\tbud\tpå\tvasen\tseg\togså\tpå\tplass\t1\ti\tkundens\tsubliste.\n",
    "\n",
    "## Eksisterende\tfunksjoner\n",
    "\n",
    "Det\teksisterer\tallerede\tnoen\tfunksjoner\tsom\tdet\tkan\tvære\tlurt\tå\tforholde\tseg\ttil. Disse funksjonene\ter\tskrevet\ti\tmodulen\tauction.py\tsom\tligger\ti\tdenne folderen.\tDisse\tskal altså\tIKKE\tprogrammeres\tav\tdeg,\tmen\tdu\tmå\tvise\thvordan\tdu\teventuelt\tbruker\tdem! Venninnen\tdin\thar\tallerede\tskrevet\tfunksjonen\t`get_auction_data`\tfor\tå\tlage\tden todimensjonale\tlisten\tdata\tbasert\tpå\ten\tfil\tsom\tinneholder\talle\tauksjonsdata.\n",
    "\n",
    "### get_auction_data:\n",
    "```python\n",
    "def get_auction_data(filename): # Existing function, populates your needed 2d-list\n",
    "    return data # data is a two-dimensional list, format described below\n",
    "```\n",
    "get_auction_data tar\tinn\tet\tfilnavn\t(du\tkan\tbruke\t'auctiondata.txt').\tDen\treturnerer\tden todimensjonale\tlisten\tdata\tbeskrevet\tunder.\n",
    "\n",
    "Eksempel:\n",
    "```\n",
    ">>> data=auction.get_auction_data('auctiondata.txt')\n",
    ">>> data\n",
    "[['Customer','vase','painting','bicycle','lego','tv'],\n",
    "['Per',100,0,200,0,1500],\n",
    "['Ida',110,50,200,0,1500],\n",
    "['Ottar',200,600,200,0,1700],\n",
    "['Dag',200,600,200,0,1700],\n",
    "['Lise',400,600,0,0,0]]\n",
    "```\n",
    "### bid:\n",
    "```python\n",
    "def bid(customer, item, data): # finds one customers bid on a particular item on datasetdata.\n",
    "    return customer_bid_on_item # Returns an integer which is the customers bid on item.\n",
    "```\n",
    "bid(customer,\titem,\tdata)\thar\tsom\tinput\tkundens\tnavn,\tgjenstandens\tnavn,\tog datastrukturen\tnevnt\tover.\tDen\treturnerer\tkundens\tbud\tpå\tden\taktuelle\tgjenstanden.\n",
    "\n",
    "Eksempel:\n",
    "```\n",
    ">>> auction.bid('Per','tv',data)\n",
    "1500 #Pers bid on the tv.\n",
    "```\n",
    "\n",
    "### sort_list:\n",
    "```python\n",
    "def sort_list(mylist,column): #list is a two-dimensional list, column is the column in each sub-list\n",
    "    #to sort everything by\n",
    "    return two_dimensional_list #sorted by values in column number column\n",
    "```\n",
    "sort_list(list,\tcolumn)\ter\ten\tfunksjon\tsom\ttar\timot\ten\ttodimensjonal\tliste,\tog\tsorterer\tdenetter\tkolonnenummeret\tsom\toppgis\tsom\tparameter\t2.\n",
    "\n",
    "Eksempel:\n",
    "```\n",
    ">>> auction.sort_list([['a',3],['b',12],['c',10]],1)\n",
    "[['b',12],['c',10],['a',3]]\n",
    "#the sublist ['b',12] comes first, as 12 is the highest of 3, 12 and 1 we sort by column 1.\n",
    "```"
   ]
  },
  {
   "cell_type": "markdown",
   "metadata": {},
   "source": [
    "## Oppgave 3a - Programmering (5%)"
   ]
  },
  {
   "cell_type": "markdown",
   "metadata": {},
   "source": [
    "Skriv\tfunksjonen\t**`menu`**\tsom\tskal\tskrive\tut\ttil\tskjerm\tulike\toppgaver\tauksjonsprogrammet støtter,\tog\tla\tbrukeren\ttaste\tinn\t(via\ttastatur)\thvilken\toppgave\than/hun\tvil\tha\tgjennomført. Funksjonen\thar\tingen\tparametre.\tEksemplet\tunder\tviser\thvordan\tmenyen\tskal\tse\tut\tnår funksjonen\t**`menu`**\tkalles.\tDersom\tbrukeren\ttaster\tet\tgyldig\tvalg\t(dvs.\ttegnet\ti,\ts\teller\tq\t–\tse eksemplet\tunder)\tskal\tfunksjonen\treturnere\ten\tstreng\tbetående\tav\ttegnet\tsom\tble\ttastet.\tI motsatt\ttilfelle\tskal\tfunksjonen\treturnere\t*None*.\n",
    "\n",
    "Eksempel på bruk av funksjonen:\n",
    "```\n",
    ">>> menu()\n",
    "Select task:\n",
    "'i' to show the highes bid of an item,\n",
    "'s' to save all winning bids to file,\n",
    "'q' to exit.\n",
    "Choice:\n",
    "```"
   ]
  },
  {
   "cell_type": "code",
   "execution_count": null,
   "metadata": {},
   "outputs": [],
   "source": [
    "#skriv svaret ditt her"
   ]
  },
  {
   "cell_type": "markdown",
   "metadata": {},
   "source": [
    "## Oppgave 3b - Programmering (10%)"
   ]
  },
  {
   "cell_type": "markdown",
   "metadata": {},
   "source": [
    "Skriv\tfunksjonen\t**`item_offers`**\tsom\thar\tinn-parametrene\t**item**\tog\t**data**.\tParameteren **item**\ter\ten\ten\tstreng\tangir\tnavnet\tpå\ten\tauksjonsgjenstand\t(f.eks.\ttv). Parameteren\t**data**\tangir\ten\tto-dimensjonal\tliste\tmed\tauksjonsdata\tformatert\tsom\tbeskrevet i\tden\tinnledende\toppgavebeskrivelsen\t(også\tvist\tførst\ti\teksemplet\tnedenfor).\tFunksjonen skal\treturnere\ten\tto-dimensjonal\tliste\tsom\tinneholder\tnavnet\ttil\tbudgiverne\tog\tbudene\tde har\tgitt\tpå\tden\tangitte\tauksjonsgjenstanden\t(se\tunder\tfor\teksempel på struktur).\n",
    "\n",
    "Eksempel på bruk:\n",
    "```\n",
    ">>> data\n",
    "[['Customer','vase','painting','bicycle','lego','tv'],\n",
    "['Per',100,0,200,0,1500],\n",
    "['Ida',110,50,200,0,1500],\n",
    "['Ottar',200,600,200,0,1700],\n",
    "['Dag',200,600,200,0,1700],\n",
    "['Lise',400,600,0,0,0]]\n",
    "\n",
    ">>> item_offers('tv',data)\n",
    "[['Per',1500],['Ida',1500],['Ottar',1700],['Dag',1700],['Lise',0]]\n",
    "```"
   ]
  },
  {
   "cell_type": "code",
   "execution_count": null,
   "metadata": {},
   "outputs": [],
   "source": [
    "#skriv svaret ditt her"
   ]
  },
  {
   "cell_type": "markdown",
   "metadata": {},
   "source": [
    "## Oppgave 3c - Programmering (10%)"
   ]
  },
  {
   "cell_type": "markdown",
   "metadata": {},
   "source": [
    "Skriv\tfunksjonen\t**`item_winner`**\tsom\ttar\tinn-parametrene\t**item**\tog\t**data**.\tParameteren\t**item**\ter en\tstreng\tsom\tangir\tnavnet\tpå\ten\tauksjonsgjenstand\t(f.eks.\ttv).\tParameteren\t**data**\tangir\ten to-dimensjonal\tliste\tmed\tauksjonsdata\tformatert\tsom\tbeskrevet\ti\tden\tinnledende oppgavebeskrivelsen.\tFunksjonen\tskal\treturnere\ten\tliste\tsom\tinneholder\tto\telementer:  \n",
    "\n",
    "Navnet\tpå\tbudgiveren\tmed\tdet\thøyeste\tbudet\tog\thvor\thøyt\tbudet\tvar.  \n",
    "\n",
    "Dersom\tdet\tikke eksisterer\tet\tbud\tpå\ten\tgitt\tgjenstand\tskal\tfunksjonen\treturnere\ten\ttom\tliste.\tForutsett\tat parameteren\t**item**\talltid\tidentifiserer\ten\tgjenstand\tsom\tfinnes\tpå\tauksjonen.\n",
    "\n",
    "Bruk\tgjerne\tfunksjonen\t`sort_list`\tbeskrevet\ti\tden\tinnledende\toppgavebeskrivelsen(bruken\ter\tillustrert\tnedfor)\ti\tforbindelse\tmed\tsortering. \n",
    "\n",
    "Dersom\tflere\tbudgivere\thar\tbudt\thøyeste\tverdi\ter\tvinneren\tden\tførste\t–\tdet\ter\tdenne budgiveren\tsom\tga\tbudet\tførst\thvis\tdu\tbruker\tsort_list.\t\n",
    "\n",
    "Eksempel\tpå\tbruk\tav\tfunksjonen\t**`sort_list`**:\n",
    "```\n",
    ">>> auction.sort_list([['a',3],['b',12],['c',10]],1) #Du trenger ikke programmere denne.\n",
    "[['b',12],['c',10],['a',3]]\n",
    "```\n",
    "Eksempel på bruk av funksjonen **`item_winner`**:\n",
    "```\n",
    ">>> data\n",
    "[['Customer','vase','painting','bicycle','lego','tv'],\n",
    "['Per',100,0,200,0,1500],\n",
    "['Ida',110,50,200,0,1500],\n",
    "['Ottar',200,600,200,0,1700],\n",
    "['Dag',200,600,200,0,1700],\n",
    "['Lise',400,600,0,0,0]]\n",
    "\n",
    ">>> item_winner('tv',data)\n",
    "['Ottar',1700]\n",
    "```"
   ]
  },
  {
   "cell_type": "code",
   "execution_count": null,
   "metadata": {},
   "outputs": [],
   "source": [
    "#skriv svaret ditt her"
   ]
  },
  {
   "cell_type": "markdown",
   "metadata": {},
   "source": [
    "## Oppgave 3d - Programmering (5%)"
   ]
  },
  {
   "cell_type": "markdown",
   "metadata": {},
   "source": [
    "Skriv\tfunksjonen\t**`all_winners_dict`**\tsom\ttar\tinn-parameteren\t**data**,\tsom\ter\ten\ttodimensjonal liste\tformatert\tsom\tbeskrevet\ti\tinnledningen\ttil\tprogrameringsoppgavene\t(også\tillustrert under).\tFunksjonen\tskal\tfinne\tut\thvilken\tbudgiver\tsom\thar\tgitt\tdet\thøyeste\tbudet\tfor\thver enkelt\tauksjonsgjenstand.\tFunksjonen skal\treturnere\ten\tdictionary.\tDenne\tskal\tbruke\tnavnet på\thver\tgjenstand\tsom\tnøkkel.\tTil\thver\tnøkkel\tskal\tdet\tknyttes\ten\tverdi\ti\tform\tav\ten liste\tbestående\tav\tto\telementer:\t(1)\tnavnet\tpå\tbudgiveren\t(vinneren\tav\tauksjonen)\tog\t(2)vinnerbudet.\n",
    "\n",
    "Eksempel\tpå\tbruk:\n",
    "```\n",
    ">>> data\n",
    "[['Customer','vase','painting','bicycle','lego','tv'],\n",
    "['Per',100,0,200,0,1500],\n",
    "['Ida',110,50,200,0,1500],\n",
    "['Ottar',200,600,200,0,1700],\n",
    "['Dag',200,600,200,0,1700],\n",
    "['Lise',400,600,0,0,0]]\n",
    "\n",
    ">>> all_winners_dict(data){'vase':['Lise',400],'painting':['Ottar',600],\n",
    "'bicycle':['Per',200],'lego':[],'tv':['Ottar',1700]}\n",
    "```"
   ]
  },
  {
   "cell_type": "code",
   "execution_count": null,
   "metadata": {},
   "outputs": [],
   "source": [
    "#skriv svaret ditt her"
   ]
  },
  {
   "cell_type": "markdown",
   "metadata": {},
   "source": [
    "## Oppgave 3e - Programmering (5%)"
   ]
  },
  {
   "cell_type": "markdown",
   "metadata": {},
   "source": [
    "Skriv\tfunksjonen\t**`save_auction_data`**\tsom\ttar\tinn-parameteren\t**data**.\tParameteren\t**data**\ter en\tto-dimensjonal\tliste\tmed\tauksjonsdata\tformatert\tslik\tsom\tbeskrevet\ti\tden\tinnledende beskrivelsen\ttil\tOppgave\t3.\tFunksjonen\tskal\tlagre\tresultatet\t(return-verdien)\tav funksjonskallet\t**all_winners_dict(data)**\ttil\tbinærfilen\tauction_winners.db\tsom\tligger\ti\tdensamme\tmappen/katalogen\tsom\tauksjonsprogrammet.\tBrukeren\tskal\tfå\tbeskjed\tom\thvorvidtdet\thar\tlyktes\tå\tskrive\tdataene\ttil\tbinærfilen\teller\tikke\t(se\teksempel\tunder).\n",
    "\n",
    "Eksempel\tpå\tvellykket\tlagring:\n",
    "```\n",
    ">>> save_auction_data(data)\n",
    "Dictionary data successfully written to file.\n",
    "```\n",
    "Eksempel på feil ved lagring:\n",
    "```\n",
    ">>> save_auction_data(data)\n",
    "Could not write dictionary data to file\n",
    "```\n"
   ]
  },
  {
   "cell_type": "code",
   "execution_count": null,
   "metadata": {},
   "outputs": [],
   "source": [
    "#skriv svaret ditt her"
   ]
  },
  {
   "cell_type": "markdown",
   "metadata": {},
   "source": [
    "## Oppgave\t3f\t-\tProgrammering"
   ]
  },
  {
   "cell_type": "markdown",
   "metadata": {},
   "source": [
    "Skriv\tfunksjonen\t**`task`**.\tFunksjonen\tskal\tførst\topprette\ten\tvariabel\t*data*,\tog\tsette\tdenne\ttil\tresultatet\tav kallet\ttil\tfunksjonen\t`get_auction_data('auctiondata.txt')`\tfra\tmodulen auction.\n",
    "\n",
    "Deretter\tskal\tfunksjonen\tkalle\t`menu`\tog\tlagre\treturverdien\tfra\tdenne\ti\ten\tvariabel.\tHva\tfunksjonen task\tså\tskal\tgjøre\tavhenger\tav\tverdien\ttil\tvariabelen:\n",
    "\n",
    "- 'i':\tBrukeren\tskal\tbli\tbedt\tom\tå\tskrive\tinn\tnavnet\tpå\ten\tauksjonsgjenstand.\tDeretter\tskal funksjonen\tkalle\t`item_winner`\t(Oppgave\t3c)\tmed\tnavnet\tpå\tauksjonsgjenstanden,\tog variabelen\tdata\tsom\targument.\tFunksjonen\tskal\tså\tskrive\tut\thvem\tsom\thar\tvunnet\tgjenstanden, og\thva\tbudet\tvar\t(eksempelvis\tVinner\tav\ttv\ter\tOttar\tsom\tbød\t1700.) Hvis\tdet\tikke\thar\tkommet\tinn\tnoe\tbud\tpå\ten\tgjenstand\t(som\tbilbanen\ti\teksempelet)\tskal\tdet skrives\tut\t*Ingen\tbud\tpå\tlego*.\n",
    "- 's':\tFunksjonen\tskal\tkalle\t`save_auction_data`\t(Oppgave\t3e)\tmed\tvariabelen\t**data**\tsomargument.\n",
    "- 'q':\tProgrammet\tskal\tavsluttes.\n",
    "\n",
    "Menyen\tskal\tpresenteres\tigjen\thelt\ttil\tbrukeren\tvelger\tå avslutte med q."
   ]
  },
  {
   "cell_type": "code",
   "execution_count": null,
   "metadata": {},
   "outputs": [],
   "source": [
    "#skriv svaret ditt her"
   ]
  }
 ],
 "metadata": {
  "kernelspec": {
   "display_name": "Python 3",
   "language": "python",
   "name": "python3"
  },
  "language_info": {
   "codemirror_mode": {
    "name": "ipython",
    "version": 3
   },
   "file_extension": ".py",
   "mimetype": "text/x-python",
   "name": "python",
   "nbconvert_exporter": "python",
   "pygments_lexer": "ipython3",
   "version": "3.11.5"
  },
  "toc": {
   "base_numbering": 1,
   "nav_menu": {},
   "number_sections": false,
   "sideBar": true,
   "skip_h1_title": false,
   "title_cell": "Table of Contents",
   "title_sidebar": "Contents",
   "toc_cell": false,
   "toc_position": {},
   "toc_section_display": true,
   "toc_window_display": false
  }
 },
 "nbformat": 4,
 "nbformat_minor": 2
}

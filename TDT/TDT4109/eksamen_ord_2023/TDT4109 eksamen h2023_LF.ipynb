{
 "cells": [
  {
   "cell_type": "markdown",
   "metadata": {},
   "source": [
    "# Teori\n",
    "Jeg skal få opp numrene på oppgavene etterhvert!\n",
    "* 1.  Integrerte kretser inneholder mest\n",
    "    - a.\tSilikon\n",
    "    - X b.\t*Silisium*\n",
    "    - c.\tBor\n",
    "    - d.\tFosfor\n",
    "- 2.\tHva er binærrepresentasjonen til HEX-tallet ‘AF’? *(Denne hadde to like alternativ, på tross av at jeg hadde forsøkt å fikse det. Men, det var et av de som var feil. Så det har jo ikke videre mye å si, tenker jeg)*\n",
    "    - X a.\t*10101111*\n",
    "    - b.\t10101110\n",
    "    - c.\t11011111\n",
    "    - d.\t10101110\n",
    "- 3.\tEn skjerm har oppløsning 3840x2160, og bruker 32 bits fargedybde. Et ukomprimert bilde som dekker hele skjermen vil ta opp 33177600 byte. Hvor mange bit per byte brukes i denne representasjonen?\n",
    "    - a.\t4\n",
    "    - X b.\t*8*\n",
    "    - c.\t16\n",
    "    - d.\t32\n",
    "- 4.\tHva er et eksempel på rekursjon?\n",
    "    - X a.\t*En funksjon som kaller seg selv*\n",
    "    - b.\tNår flere funksjoner har samme navn, men ulike parametre.\n",
    "    - c.    En funksjon som blir kalt flere ganger etter hverandre.\n",
    "    - d.\tEn funksjon som returnerer det samme hver gang den kalles med akkurat like argumenter.\n",
    "- 5.\tHva er en mye brukt måte å representere et negativt tall i en byte?\n",
    "    - X a.\t*Første bit representerer fortegn.*\n",
    "    - b.\tMan bruker to byte for å representere tallet – den første byten viser fortegn, den andre viser størrelse.\n",
    "    - c.\tMan bruker en bit pluss en byte for å representere tallet – den ekstra biten viser fortegn, mens byten inneholder tallverdien.\n",
    "    - d.\tMan flipper rekkefølgen – hvis tallet er skrevet baklengs så er det negativt.\n",
    "- 6.\tGitt Nyquist sitt teorem, hva er den beste beskrivelsen av hva som skjer når man øker samplingsfrekvensen?\n",
    "    - a.\tMan får stadig bedre sampling opp til et punkt, dersom man øker frekvensen ytterligere vil man få stadig dårligere sampling igjen.\n",
    "    - b.\tSå lenge samplingsfrekvensen er multiple av gjennomsnittet av ønsket frekvensbånd en vil sample så vil samplingen bli bra.\n",
    "    - X c.\t*Man får stadig bedre sampling opp til et punkt der økt frekvens ikke gir noen stor fordel.*\n",
    "    - d.\tSamplingsfrekvensen har ingen innvirkning på samplingens kvalitet.\n",
    "- 7.\tNår man sampler lyd ved hjelp av en analog-til digital omformer (ADC) tar man en punktprøve av et spenningssignal og sjekker spenningsnivået. Hva er det denne spenningen kan si noe om?\n",
    "    - a.\tHøyden på volumet.\n",
    "    - X b.\t*Frekvensen.*\n",
    "    - c.\tEndringen i frekvens fra forrige sampling.\n",
    "    - d.\tEndringer i volum fra forrige sampling.\n",
    "- 8.\tGit: Hvilke(n) kommando(er) vil overføre endringene gjort i \"borges-homemade-hawaiian-pizza.txt\" fra \"stage\" til \"committed\"? Du kan forutsette at filen ligger i en git repository.\n",
    "    - a.\tgit push\n",
    "    - b.\tgit add borges-homemade-hawaiian-pizza.txt\n",
    "    - X c.\t*git commit -m \"Legg til ny oppskrift\"* (Hadde først satt add til rett, men eksamen har denne.)\n",
    "    - d.\tgit save -m \"Legg til ny oppskrift\"\n",
    "- 9.\tGit: Vi ønsker nå å også lagre filen not-hawaiian-pizza.txt, men denne filen befinner seg i \"unstaged\". Hva må vi gjøre for å flytte denne filen fra unstaged til staged?\n",
    "    - a.\tgit commit -m \"Legg til en annen oppskrift\"\n",
    "    - b.\tgit stage not-hawaiian-pizza.txt\n",
    "    - X c.\t*git add not-hawaiian-pizza.txt*\n",
    "    - d.\tgit save not-hawaiian-pizza.txt\n",
    "- 10.\tGitt fargen #0064c8 Hvordan får du enklest denne fargen til å bli mer grønn? *(LF: Nå er denne fargen mest blå. For å gå noe mer grønt er det jo best å lage den mer grønn... det er jo de to i midten.)*\n",
    "    - a.\tDu skrur ned de to midterste (som har ’64’ nå)\n",
    "    - X b.\t*Du skrur opp de to midterste (som har ’64’ nå)*\n",
    "    - c.\tDu skrur opp de to siste (som har ’c8’ nå)\n",
    "    - d.\tDu skrur ned de to siste (som har ’c8’ nå)\n",
    "- 11.\tInnenfor sikkerhet er dette et eksempel på ‘integritet’:\n",
    "    - a.\tVi merker at noen som vil lese en fil ikke har lov, og stopper vedkommende fra å se den.\n",
    "    - X b.\t*Vi merker at en den filen vi forsøkte å laste ned fra en server har blitt endret siden vi la den opp der.* *(LF: det ekstra ordet 'en' her burde ikke gjøre det umulig å forstå, de andre alternativene var også klart feil)*\n",
    "    - c.\tVi har satt opp en server på en sånn måte at brukerne våre får tilgang på data selv ved stor pågang.\n",
    "    - d.\tAlt av data som legges inn i et system inneholder også metadata som styrer hvem som har lov til å lese, endre eller slette det.\n",
    "- 12.\tHvilke tilstander har data, i henhold til McCumbers kube?\n",
    "    - X a.\t*Lagring, overføring og prosessering*\n",
    "    - b.\tLangtidslagring, lagring på RAM og prosessering\n",
    "    - c.\tLagring og prosessering\n",
    "    - d.\tKonfidensialitet, integritet og tilgjengelighet\n",
    "- 13.\tMin bærbare datamaskin har 64 GB ‘RAM’. Hva står R i denne forkortelsen for?\n",
    "    - a.\t‘Rapid’ – minnet er raskere enn harddisker og slikt som kobles til hovedkortet.\n",
    "    - b.\t‘Relational’ – minnet må leses sekvensielt (altså relatert til hvor du leser allerede).\n",
    "    - X c.\t*‘Random’ – man kan slå opp og lese hva som er på en hvilken som helst plass i minnet.*\n",
    "    - d.\t'Recovery' – minnet har innebygde mekanismer for å gjenopprette tapte data.\n",
    "- 14.\tOrganiser etter hastighet, tregest til raskest:\n",
    "    - a.\tRadiorør, relé, transistor\n",
    "    - b.\tRelé, radiorør, transistor\n",
    "    - X c.\t*Relé, transistor, radiorør*\n",
    "    - d.\tTransistor, relé, radiorør\n",
    "- 15.\tHvilken påstand om transistorer er korrekt:\n",
    "    - a.\tEn transistor bruker ikke strøm, men bevegelsesenergi.\n",
    "    - X b.\t*En transistor har ingen bevegelige deler.*\n",
    "    - c.\tVi har nådd grensen for hvor mange transistorer vi kan pakke inn i én prosessor.\n",
    "    - d.\tTransistoren ble funnet opp under første verdenskrig.\n",
    "- 16.\tHvor ligger ALU (Arithmetic Logic Unit)?\n",
    "    - a.\tI RAM (‘minnet’)\n",
    "    - b.\tI kontrollenheten (CU)\n",
    "    - c.\tI alle former for langtidslagring (som harddisker og SSD)\n",
    "    - X d.\t*I CPU (‘prosessoren’)*\n",
    "- 17.\tI en CPU-kontekst, hva brukes ‘cache’ til?\n",
    "    - a.\tCache brukes til som et mellomlager mellom RAM og eksterne lagringsenheter som SSD.\n",
    "    - b.\tCache er et synonym for CPU-en selv, og begrepene kan brukes om hverandre.\n",
    "    - c.\tCache fungerer som en sekundær prosessor som utfører separate beregninger i parallell med hoved-CPU-en.\n",
    "    - X d.\t*Cache brukes til å lagre ofte brukte data for raskere tilgang enn RAM og dermed gi bedre ytelse.*\n",
    "- 18.\tHva er et register? (I konteksten datamaskinarkitektur)\n",
    "    - a.\tEn tabell over hvordan man utfører regneoperasjoner som AND, XOR og liknende som benyttes av prosessoren.\n",
    "    - b.\tEt spesielt område i RAM som holder oversikt over alle filene på datamaskinen.\n",
    "    - c.\tEn enhet for langsiktig lagring av data i datamaskinens hovedminne.\n",
    "    - X d.\t*En rask og liten datalagringsenhet inne i CPU som brukes til å lagre og hente data for raske operasjoner.*\n",
    "- 19.\tHva var en av de viktigste grunnene til at operativsystem og prosessorer gikk over fra 32-bits til 64-bits arkitektur?\n",
    "    - a.\t64-bit arkitektur gir forbedret datasikkerhet sammenlignet med 32-bit.\n",
    "    - X b.\t*Prosessoren og operativsystemet vil da kunne støtte mer enn 4GB med RAM.* *(LF: Nå var kanskje ikke støtte for minne midt i pensum. Det som derimot er midt i pensum er å kunne vite hvor mye en kan representere med 32 bit - som er litt mer enn 4 milliarder byte. Derfor er det rimelig å anta at dere kan se løsningen.)*\n",
    "    - c.\t64-bit arkitektur gir dobbelt så mye minne som 32-bit arkitektur.\n",
    "    - d.\t64-bit arkitektur gir tilfeldig tilgang til minnet for bedre ytelse.\n",
    "- 20.\tHva beskriver ‘Moores Law’?\n",
    "    - a.\tProsessorene dobler klokkehastighet annenhvert år.\n",
    "    - b.\tHastigheten til RAM dobles annenhvert år.\n",
    "    - c.\tAntallet instruksjoner som kan bli utført per sykel dobles annenhvert år.\n",
    "    - X d.\t*Antallet transistorer på en integrert kretser dobles annenhvert år.*\n"
   ]
  },
  {
   "cell_type": "markdown",
   "metadata": {},
   "source": [
    "# Automatisk rettede oppgaver"
   ]
  },
  {
   "cell_type": "markdown",
   "metadata": {},
   "source": [
    "## Oppgave 2 - Operatorer og typer\n",
    "For å sikre gjennomkjøring av alle oppgavene her så innkapsler jeg et par kall i en try. Du får kommentere ut det som passer. Denne oppgaven hadde en del elementært, og en noe litt mer... eksotisk.\n",
    "- *s + t*\n",
    "    - en streng pluss en streng blir en *streng*.\n",
    "- *i == x*\n",
    "    - man kan lett teste om et heltall er lik er flyttal* - som blir en *boolean*. True her.\n",
    "- *i // i == x*\n",
    "    - hmm! Heltalldivisjonen (blir 1) utføres *før* likhetssjekken, så en ender med 1 == x, som blir en *boolean* (False).\n",
    "- *i // (i == x)*\n",
    "    - hmm(2)! Her sikrer parentesene at i == x kjøres først, som blir True. Så, kan man dele et heltall på en boolean? Vel, man kan dele på True. Hvorfor? Fordi True og 1 ofte kan brukes om hverandre. \n",
    "- 3 / 1 = 3 = *heltall*.\n",
    "*s.find(t)*\n",
    "    - hvor i en streng ligger en annen streng? Returnereer et *heltall*.\n",
    "- *i / x*\n",
    "   - et heltall delt på et flyttall blir et *flyttall*, selv om det er samme verdi.\n",
    "- *t[x]*\n",
    "    - i Python kan man ikke referere til en plass i en streng ved et flyttall. *Error*!\n",
    "- *s - t*\n",
    "    - en streng kan ikke trekkes fra en annen streng på denne måten. *Error*."
   ]
  },
  {
   "cell_type": "code",
   "execution_count": 65,
   "metadata": {},
   "outputs": [
    {
     "name": "stdout",
     "output_type": "stream",
     "text": [
      "i // i == x -> False\n",
      "i / x -> 1.0\n",
      "i // (i == x) ->  3\n",
      "i == x ->  True\n",
      "s + t ->  Pythonthon\n",
      "string indices must be integers\n"
     ]
    }
   ],
   "source": [
    "i = 3\n",
    "x = 3.0\n",
    "s = 'Python'\n",
    "t = 'thon'\n",
    "\n",
    "print(\"i // i == x ->\", i // i == x) \n",
    "print(\"i / x ->\", i/x)\n",
    "print(\"i // (i == x) -> \", i // (i == x))\n",
    "print(\"i == x -> \", i==x)\n",
    "print(\"s + t -> \", s+t)\n",
    "\n",
    "\n",
    "try:\n",
    "    print(\"t[x] -> \", t[x])\n",
    "    print(\"s - t -> \", s-t)\n",
    "except Exception as e:\n",
    "    print(e)\n",
    "\n"
   ]
  },
  {
   "cell_type": "markdown",
   "metadata": {},
   "source": [
    "## Oppgave 3 - Fix (5%)\n",
    "Noe som kan ha gjort denne litt vanskeligere er for-løkken, som vi ikke så ofte bruker til å telle nedover med."
   ]
  },
  {
   "cell_type": "code",
   "execution_count": 66,
   "metadata": {},
   "outputs": [],
   "source": [
    "def fix(strg, cond):\n",
    "    new_strg = strg[-1]\n",
    "    print(new_strg)\n",
    "    for i in range(len(strg)-1, 0, -1):\n",
    "        print(\"Løkke\", i, strg[i])\n",
    "        if cond and strg[i] < new_strg[-1]:\n",
    "            print(\"if\", i, strg[i])    \n",
    "            new_strg += strg[i-1]\n",
    "        elif strg[i] in cond:\n",
    "            print(\"elif\", i, strg[i])    \n",
    "            new_strg += strg[i]\n",
    "    return new_strg\n",
    "\n",
    "\n",
    "# print(\"#1:\", fix(\"oslo\",[]))\n",
    "# print(\"#2:\", fix(\"oslo\",\"tdt4109\"))\n",
    "# print(\"#3:\", fix(\"e14te\",[1,2]))\n",
    "# print(\"#4:\", fix(\"oslo\",{\"y\":1, \"o\":2}))\n",
    "# print(\"#5:\", fix(\"oslo\",True))\n",
    "\n"
   ]
  },
  {
   "cell_type": "markdown",
   "metadata": {},
   "source": [
    "Forklaring: \n",
    "- #1: new_strg settes til \"o\" før løkka. Inni løkka vil ingen av if-sjekkene utløses, derfor vil også kun \"o\" returneres.\n",
    "- #2: new_strg settes til \"o\" før løkka. Inni løkka vil vi telle nedover, og if-testen vil være sann for i = 2 og strg[i] lik l. Dermed utvides new_strg med strg[i-1], som er \"s\". All andre tester feiler, \"os\" returneres.\n",
    "- #3: Okei... liste som andre parameter? Det funker, det. new_strg settes til \"e\" før løkka, og det er ingen tester som ikke også virker med en liste. Kun i lik 2 utløser en True if, som legger til \"1\" i new_strg. \n",
    "- #4: Dictionary som parameter? Fungerer det da? Jeppers. Mek at vi aldri noe sted refererer til noe elementnummer i cond, så når en spør om *noe in cond* så refererer denne sjekken til nøklene i dictionaryen. Ellers utløses elif for i lik 3 og if for i lik 2, som totalt mekker oos.\n",
    "- #5: Ok, nå er *cond* en boolean. Dette fungerer finfint på den første testen (if cond) men krasjer på den andre testen (strg[i] in cond) - og vil dermed utløse en feil (TypeError)"
   ]
  },
  {
   "cell_type": "markdown",
   "metadata": {},
   "source": [
    "## Oppgave 4 - Files and exceptions"
   ]
  },
  {
   "cell_type": "code",
   "execution_count": 67,
   "metadata": {},
   "outputs": [
    {
     "name": "stdout",
     "output_type": "stream",
     "text": [
      "ValueError\n",
      "-8\n",
      "Nah\n",
      "Error\n",
      "Nah\n"
     ]
    }
   ],
   "source": [
    "def respons(fil, c):\n",
    "    if fil[-4:] != \".txt\":\n",
    "        fil += \".txt\"\n",
    "    try:\n",
    "        with open(fil) as f:\n",
    "            f.readline()\n",
    "            for line in f.readlines():\n",
    "                a = []\n",
    "                if c in line:\n",
    "                    for v in line.split()[1:]:\n",
    "                        a = a + [int(v)]\n",
    "                    return max(a)\n",
    "    except ValueError as e:\n",
    "        return \"ValueError\"\n",
    "    except:\n",
    "        return \"Error\"\n",
    "    return \"Nah\"\n",
    "\n",
    "print(respons(\"temperaturer.txt\", \"Gjøvik\"))\n",
    "print(respons(\"temperaturer\", \"Oslo\"))\n",
    "print(respons(\"temperaturer\", \"Halden\"))\n",
    "print(respons(\"temps.txt\", \"Trondheim\"))\n",
    "print(respons(\"temperaturer.txt\", \"Trondheim\"))"
   ]
  },
  {
   "cell_type": "markdown",
   "metadata": {},
   "source": [
    "### Hva gjør koden\n",
    "- De første to kodelinjene i funksjonen sjekker om de fire siste tegnene er lik \".txt\". Hvis de ikke er det, så legges det til.\n",
    "- Filen åpnes uten noen ekstra argument, som tilsvarer \"r\".\n",
    "- Det første som skjer etter at filen er åpnet er at den første linjen leses. Det betyr at den effektivt sett hoppes over, og dermed vil den første linjen i filen ikke bli vurdert for noe som helst. Trondheim vil derfor aldri finnes!\n",
    "- Deretter leses hver linje\n",
    "    - Hvis c (bynavnet) er på linjen så tolker vi den:\n",
    "        - Vi splitter på mellomrom, og forsøker å gjøre om alle element (uten det første første som slices bort) til heltall. Dette skaper problemer for Gjøvik, da den prøver å gjøre om \"#\" og \"Huff!\" til tall også!\n",
    "        - Så legges alle tallene inn i a.\n",
    "        - Til slutt returneres den høyeste verdien i a, som da betyr den høyeste verdien som står registrert for hver by.\n",
    "- Eventuelle feil kan utløse to ulike typer unntak:\n",
    "    - ValueError fanger opp når man prøver å gjøre om feil type til et heltall. Denne returnerer \"ValueError\".\n",
    "    - Alle andre feiltyper ender opp i neste, som returnerer \"Error\".\n",
    "- Dersom ikke noe er returnert før (enten en funnet verdi eller utløst unntak) vil funksjonen til slutt returnere \"Nah\".\n",
    "\n",
    "### Hva vil hvert kall ende opp med?\n",
    "- *#1 respons(\"temperaturer.txt\", \"Gjøvik\")*\n",
    "    - Vi finner den riktige linjen, men ender opp med en å returnere *\"ValueError\"* fordi vi forsøker å gjøre om strengen \"#\" og \"Huff!\" til heltall.\n",
    "- *#2 print(respons(\"temperaturer\", \"Oslo\"))*\n",
    "    - Finner ikke \".txt\" til slutt i filnavn, så legger på det. Finner korrekt fil. Løper igjennom, finner Oslo, og returnerer maks *\"-8\"*. \n",
    "- *#3 print(respons(\"temperaturer\", \"Halden\"))*\n",
    "    - Finner ikke \".txt\" til slutt i filnavn, så legger på det. Finner korrekt fil. Løper igjennom, finner aldri Halden. Ingen unntak, så returnerer *\"Nah\"*.\n",
    "- *#4 print(respons(\"temps.txt\", \"Trondheim\"))*\n",
    "    - Finner ikke korrekt fil, som fanges opp av Except og returnerer *\"Error\"*\n",
    "- *#5 print(respons(\"temperaturer.txt\", \"Trondheim\"))*\n",
    "    - Finner riktig fil, men siden vi hopper over første linje så vil den aldri finne Trondheim. Derfor ender vi opp som med Halden, retur av *\"Nah\"*."
   ]
  },
  {
   "cell_type": "markdown",
   "metadata": {},
   "source": [
    "# Oppgave 5 - Alle linjer teller\n",
    "Her går vi raskt igjennom de ulike oppgavene, og forklarer kjapt hvordan de kan brytes ned."
   ]
  },
  {
   "cell_type": "code",
   "execution_count": 68,
   "metadata": {},
   "outputs": [
    {
     "name": "stdout",
     "output_type": "stream",
     "text": [
      "a: True\n",
      "b: True\n",
      "c: True\n",
      "d False\n",
      "2\n"
     ]
    }
   ],
   "source": [
    "# 5.1\n",
    "a = (True or False) and (True or False)\n",
    "# a = True or True\n",
    "# a = True\n",
    "print(\"a:\",a)\n",
    "\n",
    "b = 4 > 3\n",
    "print(\"b:\",b)\n",
    "\n",
    "c = not (a and b) or a\n",
    "# c = not (True and True) or True\n",
    "# c = not True or True\n",
    "# c = False or True # \"not\" forholder seg til det rett til høyre, og beregnes før \"or.\"\n",
    "# c = True\n",
    "print(\"c:\",c) \n",
    "\n",
    "d = \"a\" in {1:\"a\", 2:\"b\"}\n",
    "# \"in\" som forholder seg til en dictionary vil forholde seg nøklene i denne.\n",
    "# d = \"a\" in dict_keys([1, 2]) # False\n",
    "print(\"d\",d)\n",
    "\n",
    "# a, b, c er True\n",
    "# d er False\n",
    "if (a and not b): # True and not True -> True and False -> False\n",
    "    print(1)\n",
    "elif a or (not c): # True or (not True) -> True or False -> True -> Suksess! Og ferdig.\n",
    "    print(2)\n",
    "elif d or (not a):\n",
    "    print(3)\n",
    "else:\n",
    "    print(4)\n"
   ]
  },
  {
   "cell_type": "markdown",
   "metadata": {},
   "source": [
    "## Oppgave 6 - ¿Que?\n",
    "Hva kan denne funksjonen brukes til?"
   ]
  },
  {
   "cell_type": "code",
   "execution_count": 69,
   "metadata": {},
   "outputs": [
    {
     "name": "stdout",
     "output_type": "stream",
     "text": [
      "f(2): 3\n",
      "f(2.1): 3\n",
      "f(2.5): 3\n",
      "f(2.9): 3\n"
     ]
    }
   ],
   "source": [
    "def f(x):\n",
    "    return int(x) + 1\n",
    "print(\"f(2):\",f(2))\n",
    "print(\"f(2.1):\",f(2.1))\n",
    "print(\"f(2.5):\",f(2.5))\n",
    "print(\"f(2.9):\",f(2.9))"
   ]
  },
  {
   "cell_type": "markdown",
   "metadata": {},
   "source": [
    "### Hva gjør koden?\n",
    "Funksjonen int() vil kun forholde seg til heltallet som gis inn. Eventuelle desimaler ignoreres. Denne oppførselen er annerledes enn funksjonen round(), som vil runde *ned* for alle desimaler *.5* og mindre. Deretter legger funksjonen f() til 1, og returnerer dette."
   ]
  },
  {
   "cell_type": "markdown",
   "metadata": {},
   "source": [
    "## Oppgave 7 - Kodeforståelse 1\n",
    "Hva skrives ut her?"
   ]
  },
  {
   "cell_type": "code",
   "execution_count": 70,
   "metadata": {},
   "outputs": [
    {
     "name": "stdout",
     "output_type": "stream",
     "text": [
      "4\n"
     ]
    }
   ],
   "source": [
    "x = 3\n",
    "y = 4\n",
    "\n",
    "def f(x):\n",
    "    y = 2*x\n",
    "\n",
    "f(x)\n",
    "print(y)"
   ]
  },
  {
   "cell_type": "markdown",
   "metadata": {},
   "source": [
    "### Hva gjør koden\n",
    "Dette er en test på om man kjenner til oppførselen til en variabel som ikke er muterbar. Sett fra funksjonen f(x) sitt perspektiv vil opprettelsen av variabelen y være en helt ny variabel, tilfeldigvis med det samme navnet som en variabel i omgivelsen utenfor. Disse peker til helt ulike steder i minnet. Derfor vil verdien av y på utsiden, etter at kallet fil f(x) er returnert og y skrives ut, være akkurat lik det det var før kallet til funksjonen. Dersom man derimot hadde lagt inn linjen *global y* før man setter *y = 2*x*, da ville den i stedet oppdatert omgivelsen sin versjon av y. Det betyr at koden skriver ut *4*."
   ]
  },
  {
   "cell_type": "markdown",
   "metadata": {},
   "source": [
    "## Oppgave 8 - Kodeforståelse 2\n",
    "Hva gjør koden? "
   ]
  },
  {
   "cell_type": "code",
   "execution_count": 71,
   "metadata": {},
   "outputs": [
    {
     "name": "stdout",
     "output_type": "stream",
     "text": [
      "3.0\n"
     ]
    }
   ],
   "source": [
    "def div(a, b):\n",
    "    try:\n",
    "        return a / b\n",
    "    except ZeroDivisionError:\n",
    "        return 'ZeroDivisionError'\n",
    "    except TypeError:\n",
    "        return 'TypeError'\n",
    "    except:\n",
    "        return 'Annen Error'\n",
    "\n",
    "print(div(3, 1))"
   ]
  },
  {
   "cell_type": "markdown",
   "metadata": {},
   "source": [
    "### Hva gjør koden?\n",
    "Et heltall delt på et annet heltall går superfint, men returnerer et *flyttall*. Unntakene her er bare lureri. :-)"
   ]
  },
  {
   "cell_type": "markdown",
   "metadata": {},
   "source": [
    "## Oppgave 9 - Drag and drop 1\n",
    "Koden skal sjekke om argumentet til funksjonen check_timestamp er på korrekt notasjon for time:minutt, der time ikke kan være annet enn heltall 0-23 og minutt ikke kan være annet enn heltall 0-59. Argumentet må også være en streng."
   ]
  },
  {
   "cell_type": "code",
   "execution_count": 72,
   "metadata": {},
   "outputs": [
    {
     "name": "stdout",
     "output_type": "stream",
     "text": [
      "check_timestamp('15:35': True\n",
      "check_timestamp('00:00'): True\n",
      "check_timestamp('24:63'): False\n"
     ]
    }
   ],
   "source": [
    "def check_timestamp(timestamp):\n",
    "    if type(timestamp) != str:\n",
    "        # Er argumentet noe annet enn en streng?\n",
    "        return False\n",
    "    if len(timestamp) != 5:\n",
    "        # Lengden må være 5, hvis ikke er det et brudd.\n",
    "        return False \n",
    "    if (timestamp[2]) != ':':\n",
    "        # Det tredje tegnet må være et kolon.\n",
    "        return False\n",
    "    for string in (timestamp[:2], timestamp[3:]):\n",
    "        # Her lager vi to tupler, og looper oss igjennom dem!\n",
    "        if not string.isdigit():\n",
    "            # Inneholder timeplassene og minuttplassene noe annet enn siffer?\n",
    "            return False\n",
    "    if int(timestamp[:2]) > 23:\n",
    "        # Er verdien av timer mer enn 23? I så fall feil!\n",
    "        return False\n",
    "    if int(timestamp[3:]) > 59:\n",
    "        # Er verdiene av minutter mer enn 59? I så fall feil!\n",
    "        return False\n",
    "    # Alt er ok.\n",
    "    return True\n",
    "\n",
    "print(\"check_timestamp('15:35':\", check_timestamp('15:35'))\n",
    "print(\"check_timestamp('00:00'):\", check_timestamp('00:00'))\n",
    "print(\"check_timestamp('24:63'):\", check_timestamp('24:63'))"
   ]
  },
  {
   "cell_type": "markdown",
   "metadata": {},
   "source": [
    "## Oppgave 10 - Drag and drop 2\n",
    "Beskrivelse: Over (på eksamen, under i LF) viser vi en rekke kall til funksjonen move_updater. Vi har en liste med moves (R, U, etc.).  Noen av elementene er tagget med 2 eller ' (se eksempler over) og skal tolkes korrekt av funksjonen. Bygg opp funksjonen `move_updater` som tar inn en liste og returnerer en liste med alle flytt på denne 'utvidede' måten. Merk altså spesielt:\n",
    "\n",
    "- Hvis R eller U har en 2 etter seg betyr dette to av denne bokstaven (se eksempel)\n",
    "- Hvis R eller U har en ' etter seg betyr dette tre av denne bokstaven (se eksempel)"
   ]
  },
  {
   "cell_type": "code",
   "execution_count": 73,
   "metadata": {},
   "outputs": [
    {
     "name": "stdout",
     "output_type": "stream",
     "text": [
      "move_updater([]): ['R']\n",
      "move_updater([\"R2\"]): ['R', 'R']\n",
      "move_updater([\"R'\"]): ['R', 'R', 'R']\n",
      "move_updater(moves): ['R', 'U', 'R', 'R', 'R', 'U', 'U', 'R']\n"
     ]
    }
   ],
   "source": [
    "def move_updater(moves):\n",
    "    new_moves = []\n",
    "    for index in range(len(moves)):\n",
    "        move = moves[index]\n",
    "        if move.endswith(\"2\"):\n",
    "            # Første spesielle, da skal vi gjenta tegnet to ganger. Tegnet er på plass 0 i move.\n",
    "            new_moves += [move[0]]*2\n",
    "        elif move.endswith(\"'\"):\n",
    "            # Andre spesielle, gjenta tre ganger! Og tegnet er på plass 0 i move.\n",
    "            new_moves += [move[0]]*3\n",
    "        # Ellers er det bare en \"R\" eller \"U\", så da skal en bare legge til [tegn]\n",
    "        else:\n",
    "            new_moves += [move]\n",
    "    return new_moves\n",
    "\n",
    "print(\"move_updater([\"R\"]):\", move_updater([\"R\"]))\n",
    "print('move_updater([\"R2\"]):', move_updater([\"R2\"]))\n",
    "print('''move_updater([\"R'\"]):''', move_updater([\"R'\"]))\n",
    "moves = [\"R\", \"U\", \"R'\", \"U2\", \"R\"]\n",
    "print(\"move_updater(moves):\", move_updater(moves))\n"
   ]
  },
  {
   "cell_type": "markdown",
   "metadata": {},
   "source": [
    "### Kommentarer om koden\n",
    "En ting som kanskje kan være litt spesielt er bruken av new_moves += [noe]. Altså at en legger til en liste. Dette er en av måtene man kan appende et element til en liste. Dette er fint i bruk her siden det gjør det lettere å legge til flere elementer på en gang. Hvis en skulle brukt append måtte en gjort det to og tre ganger!"
   ]
  },
  {
   "cell_type": "markdown",
   "metadata": {},
   "source": [
    "## Oppgave 11 - Drag and drop 3\n",
    "Funksjonen `finn_gjennomsnittet` skal gjøre akkurat det: Finne gjennomsnittet. Den tar i mot en tabell med tall (liste med lister) og returnerer gjennomsnittet av alle tallene."
   ]
  },
  {
   "cell_type": "code",
   "execution_count": 74,
   "metadata": {},
   "outputs": [
    {
     "name": "stdout",
     "output_type": "stream",
     "text": [
      "finn_gjennomsnittet([[1, 2], [3, 4, 5], [6, 7, 8, 9]]): 5.0\n"
     ]
    }
   ],
   "source": [
    "def finn_gjennomsnittet(tabell):\n",
    "    summen = 0 # En typisk ting, her skal vi lagre summen av alle tall\n",
    "    antall = 0 # Enda en typisk ting, her skal vi lagre antall\n",
    "    for rad in tabell:\n",
    "        for tall in rad:\n",
    "            # Nå går vi igjennom alle tallene i den todimensjonale listen.\n",
    "            summen += tall # Sum øker jo med hvert nye tall\n",
    "            antall += 1 # Antallet øker med 1 for hvert nye tall\n",
    "    return summen/antall # gjennomsnittet returneres\n",
    "\n",
    "print(\"finn_gjennomsnittet([[1, 2], [3, 4, 5], [6, 7, 8, 9]]):\", finn_gjennomsnittet([[1, 2], [3, 4, 5], [6, 7, 8, 9]]))"
   ]
  },
  {
   "cell_type": "markdown",
   "metadata": {},
   "source": [
    "### Kommentarer om koden\n",
    "Denne var en vi ser på som rimelig enkel, og de fleste burde få til! Det er ikke spesielt mye spesielt å påpeke her, ting er gjort på enkleste måte. Det finnes selvfølgelig mange andre måter å utføre samme løsning, kan du finne på noen?"
   ]
  },
  {
   "cell_type": "markdown",
   "metadata": {},
   "source": [
    "# Oppgave 12 - Fyll inn 1\n",
    "Vi er gitt følgende tre sett R, S og T. Hva skrives ut hvis vi kjører kodesnuttene som er nummerert over (under i LF)?"
   ]
  },
  {
   "cell_type": "code",
   "execution_count": 75,
   "metadata": {},
   "outputs": [
    {
     "name": "stdout",
     "output_type": "stream",
     "text": [
      "#1: 6\n",
      "#2: 2\n",
      "#3: 1\n",
      "#4: 3\n"
     ]
    }
   ],
   "source": [
    "R = {1, 2, 3}\n",
    "S = {3, 4, 5}\n",
    "T = {4, 5, 6}\n",
    "print(\"#1:\",len(R.union(T)))\n",
    "print(\"#2:\",len(S.intersection(T)))\n",
    "print(\"#3:\", len(S.difference(T)))\n",
    "print(\"#4:\", len(R.intersection(T).symmetric_difference(S)))"
   ]
  },
  {
   "cell_type": "markdown",
   "metadata": {},
   "source": [
    "### Hva gjør koden?\n",
    "- #1: Hvor mange unike elementer er det som finnes i R og T? 1, 2, 3, 4, 5 og 6.\n",
    "- #2: Hvor mange unike elementer finnes i både S og T? 3 og 4.\n",
    "- #3: Hvor mange unike elementer i S men ikke i T? Bare 3.\n",
    "- #4: Først finner vi ut hvor mange unike elementer som finnes i både R og T. Dette er ingen, så resultatet er {}. Denne kjører en så en symmetrisk differanse med S. Dette betyr at en finner de unike elementene som er i hver av settene, men ikke i begge. Siden en her har et tomt sett og settet {3, 4, 5} så vil dette ende opp med {3, 4, 5}. Som har lengde 3."
   ]
  },
  {
   "cell_type": "markdown",
   "metadata": {},
   "source": [
    "## Oppgave 13 - Fyll inn 2\n",
    "\n",
    "Koden over (under i LF) kjøres, med fem ulike verdier. Hva skrives ut? Eller får du en feil? Et problem? Over (under i LF) ligger det en liste med ev. feilmeldinger o.l. du kan skrive inn hvis du tror de kommer opp. Det kan altså hende at en av bostavene F, L, N, S, T, U eller Z passer inn som ett av svarene under, se boks 2 over. Skriv N, ikke \"N\" eller 'N'. Numrene med # under refererer til de ulike #numrene i funksjonskallene over.\n",
    "\n",
    "F   Funksjonen kjøres aldri\n",
    "L   Navnet \"loop\" er reservert\n",
    "N   NameError\n",
    "S   SyntaxError\n",
    "T   TypeError\n",
    "U   Uendelig loop\n",
    "Z   ZeroDivisionError\n"
   ]
  },
  {
   "cell_type": "code",
   "execution_count": 76,
   "metadata": {},
   "outputs": [
    {
     "name": "stdout",
     "output_type": "stream",
     "text": [
      "#2 4.5\n",
      "#3 5\n",
      "#4 8\n"
     ]
    }
   ],
   "source": [
    "def loop(x, y):\n",
    "    while x < 4:\n",
    "        z = 3 / x\n",
    "        # print(f\"x: {x}, y:{y}, z:{z}.\") # Linje kun i LF\n",
    "        x += y\n",
    "    return x\n",
    "\n",
    "# print(\"#1\", loop(-3, 1)) # Utkommentert fordi den krasjer når x blir 0.\n",
    "print(\"#2\", loop(-1.5, 1)) \n",
    "print(\"#3\", loop(1, 2))\n",
    "print(\"#4\", loop(8, 1))\n",
    "# print(\"#5\", loop(1, -2)) # Utkommentert fordi den har en uendelig løkke."
   ]
  },
  {
   "cell_type": "markdown",
   "metadata": {},
   "source": [
    "### Hva skjer i koden?\n",
    "For det første gjør jo ikke beregningen av en z noe som helst. Alt i koden som betyr noe er at den beregnes. \n",
    "Det andre er at x økes med y hver iterasjon i while-løkka.\n",
    "- #1: Her går x ned med 1 hver runde, til slutt blir den 0, og beregning av z krasjer. Returnerer *Z* for *ZeroDivisionError*.\n",
    "- #2: x økes med 1 hver runde, hopper fra -0.5 til 0.5 så krasjer aldri med x lik 0. Maks bli da *4.5* før den feiler while-sjekken, som returneres.\n",
    "- #3: x økes med 2 hver runde, fra 1 -> 3 -> 5 -> ut av while. Returnerer *5*.\n",
    "- #4: x er allerede mer enn 4, så hopper over løkka. Returnerer *8*.\n",
    "- #5: Med negativ y vil x i denne løkken bli 2 lavere hver runde. Den krasjer heller ikke på at x blir 0. Vi ender derfor opp med *U* - uendelig løkke. "
   ]
  },
  {
   "cell_type": "markdown",
   "metadata": {},
   "source": [
    "## Oppgave 14 - Fyll inn 3\n",
    "Dette var en drøss med listeoperasjoner. Bare å ha tunga rett i munnen. LF legger bare inn en print etter hver operasjon så man kan se hva sin skjer."
   ]
  },
  {
   "cell_type": "code",
   "execution_count": 77,
   "metadata": {},
   "outputs": [
    {
     "name": "stdout",
     "output_type": "stream",
     "text": [
      "liste.append(1): [1]\n",
      "liste.append(2): [1, 2]\n",
      "liste.sort(reverse=True): [2, 1]\n",
      "liste.append(3): [2, 1, 3]\n",
      "liste.insert(2, 4): [2, 1, 4, 3]\n",
      "liste.remove(4): [2, 1, 3, 5, 6]\n",
      "liste = liste[::2]: [2, 3, 6]\n",
      "11\n"
     ]
    }
   ],
   "source": [
    "liste = []\n",
    "liste.append(1)\n",
    "print(\"liste.append(1):\",liste)\n",
    "liste.append(2)\n",
    "print(\"liste.append(2):\",liste)\n",
    "liste.sort(reverse=True)\n",
    "print(\"liste.sort(reverse=True):\", liste)\n",
    "liste.append(3)\n",
    "print(\"liste.append(3):\",liste)\n",
    "liste.insert(2, 4)\n",
    "print(\"liste.insert(2, 4):\", liste)\n",
    "liste = liste + [5, 6]\n",
    "liste.remove(4)\n",
    "print(\"liste.remove(4):\", liste)\n",
    "liste = liste[::2]\n",
    "print(\"liste = liste[::2]:\", liste)\n",
    "print(sum(liste))"
   ]
  },
  {
   "cell_type": "markdown",
   "metadata": {},
   "source": [
    "## Oppgave 15 - Lateralus\n",
    "Alle vet at TOOL sin sang Lateralus er herlig å høre på. Men hva gjør den så spennende? Jo, den skal visstnok følge Fibonacci-rekken! \n",
    "\n",
    "Øverst (Under i LF) vil dere finne en streng tekst som inneholder teksten til en passasje fra sangen. Ord med flere stavelser er delt opp med en '_' mellom stavelsene. Din oppgave er å ferdigstille den rekursive funksjonen slik at den til slutt returnerer en liste med antall stavelser per linje i teksten! Merk at den siste oppgavedelen er i selve funksjonskallet. Den korrekte listen skal bli [1, 1, 2, 3, 5, 8, 5, 3]"
   ]
  },
  {
   "cell_type": "code",
   "execution_count": 1,
   "metadata": {},
   "outputs": [
    {
     "name": "stdout",
     "output_type": "stream",
     "text": [
      "len(x) == 1, så x: ['Lets me see']\n",
      "[1, 1, 2, 3, 5, 8, 5, 3]\n"
     ]
    }
   ],
   "source": [
    "tekst = '''Black\n",
    "then\n",
    "white are\n",
    "All I see\n",
    "In my in_fan_cy\n",
    "Red and ye_llow then came to be\n",
    "Rea_ching out to me\n",
    "Lets me see'''\n",
    "\n",
    "def count_syllables(x):\n",
    "    # Erstatte alle _ i første element med mellomrom, slik at de kan tolkes som stavelser:\n",
    "    x[0] = x[0].replace(\"_\",\" \")\n",
    "    # Siste element er når x har lengde 1, så da må vi hoppe ut av rekursjonen.\n",
    "    if len(x) == 1:\n",
    "        print(\"len(x) == 1, så x:\", x)\n",
    "        # Vi ønsker å returnere en liste som inneholder antall stavelser på den siste linjen. \n",
    "        return [len(x[0].split())]\n",
    "    could_be_relevant = count_syllables(x[1:])\n",
    "    important_variable = len(x[0].split())\n",
    "    return [important_variable] + could_be_relevant\n",
    "\n",
    "\n",
    "print(count_syllables(tekst.split(\"\\n\"))) \n"
   ]
  },
  {
   "cell_type": "markdown",
   "metadata": {},
   "source": [
    "# Manuelt rettede oppgaver - Den strikte faraoen\n",
    "I landet Miramarmora har faraoen strenge importregler. Ingen spør egentlig om hvorfor, men det har alltid vært sånn. Så da så.\n",
    "\n",
    "Utvikleren som holdt på å skrive systemet som grensevaktene skulle bruke stod feil plassert da nesa til sphninxen falt ned. Nå er det opp til deg å ferdigstille mesterverket. Eller i alle fall komme noen trinn. I programmeringpyramiden, altså.\n",
    "\n",
    "For hvert trinn kan det være greit å bruke noe av det som er laget før. Du kan selvfølgelig benytte deg av tidligere definert funksjoner selv om du ikke har klart å lage dem."
   ]
  },
  {
   "cell_type": "markdown",
   "metadata": {},
   "source": [
    "## Datastruktur\n",
    "Når du undersøker er det ikke stort som egentlig ble laget. Men, du finner kode med import av noen filer, som setter opp en datastruktur som ser ut til å bestå av to ulike variable. *rules* er en dictionary som lister opp ulike varer og tillat mengde. *register* er en todimensjonal liste der den innerste listen er personspesifikk. Første element er navnet til personen som krysser grensen. De resterende elementene er strenger. Hver av dem angir type og allerede importert mengde, separert med et kolon. Ikke se på meg - jeg bare forteller hva du har blitt gitt!\n",
    "\n",
    "Du kan se et eksempel på dette under:"
   ]
  },
  {
   "cell_type": "code",
   "execution_count": 79,
   "metadata": {},
   "outputs": [],
   "source": [
    "rules = {\n",
    "    'kaffe': 100,    # tillatt mengde kaffe per år (100 hva? Er ikke så farlig)\n",
    "    'ost': 150,      # \n",
    "    'sjokolade': 50, \n",
    "    'melk': 200,\n",
    "    'kjeks': 1000      \n",
    "}\n",
    "\n",
    "register = [\n",
    "    ['Vetle', 'kaffe:80', 'ost:120', 'melk:150'],\n",
    "    ['Alice', 'ost:50', 'sjokolade:30', 'melk:50'],\n",
    "    ['Charlie', 'kaffe:50', 'ost:80', 'melk:100']\n",
    "]\n",
    "\n"
   ]
  },
  {
   "cell_type": "markdown",
   "metadata": {},
   "source": [
    "## Oppgave 16 - Hvem importerer (3%)\n",
    "Faraoen ønsker å vite hvem som importerer varer. Til det brukes funksjonen *who_imports(register)* som har følgende krav:\n",
    "- Funksjonen skal returnere en liste over alle personene som har importert varer.\n",
    "\n",
    "Eksempel:\n",
    "```python\n",
    ">>> print(who_imports(register))\n",
    "['Vetle', 'Alice', 'Charlie']"
   ]
  },
  {
   "cell_type": "code",
   "execution_count": 80,
   "metadata": {},
   "outputs": [
    {
     "name": "stdout",
     "output_type": "stream",
     "text": [
      "['Vetle', 'Alice', 'Charlie']\n"
     ]
    }
   ],
   "source": [
    "def who_imports(register):\n",
    "    who = []\n",
    "    for person_info in register:\n",
    "        who.append(person_info[0])\n",
    "    return who\n",
    "\n",
    "print(who_imports(register))"
   ]
  },
  {
   "cell_type": "markdown",
   "metadata": {},
   "source": [
    "### Hva gjør koden?\n",
    "- Lag en tom liste. \n",
    "- Løp igjennom alle personene i registeret. Merk at *in <dictionary>* vil løkke gjennom nøklene.\n",
    "- Legg til elementet på plass nummer 0, som er navnet.\n",
    "- Returner listen"
   ]
  },
  {
   "cell_type": "markdown",
   "metadata": {},
   "source": [
    "## Oppgave 17 - Finner du osten? (4%)\n",
    "I denne oppgaven skal du lage en funksjon som hjelper deg med å finne ut hvor mye av en spesifikk vare, for eksempel ost, en person, for eksempel Vetle, har importert. Denne funksjonen, kalt find_goods(plist, good), vil ta to argumenter:\n",
    "- *plist* – en liste lik ett element i register\n",
    "- *good* – Navnet på varen du ønsker å sjekke mengden av (string)\n",
    "\n",
    "\n",
    "Funksjonen skal søke gjennom listen og gi tilbake antallet av den spesifikke varen som personen har importert, representert som et heltall. Hvis det viser seg at personen ikke har importert denne varen før, skal funksjonen returnere 0.  \n",
    "Eksempel på kjøring:\n",
    "```python\n",
    ">>> vinfo = ['Vetle', 'kaffe:80', 'ost:120', 'melk:150']\n",
    ">>> find_goods(vinfo, 'ost')\n",
    "120\n",
    "```\n"
   ]
  },
  {
   "cell_type": "code",
   "execution_count": 81,
   "metadata": {},
   "outputs": [
    {
     "name": "stdout",
     "output_type": "stream",
     "text": [
      "120\n"
     ]
    }
   ],
   "source": [
    "def find_good(plist, good):\n",
    "    for current_good in plist[1:]: # Hopp over navnet\n",
    "        # splitt ut i vare og mengde, ikke noe problem å dele opp en split i to hvis det BLIR to elementer:\n",
    "        type_string, type_amount = current_good.split(\":\") \n",
    "        if type_string == good: # har vi funnet riktig vare\n",
    "            return int(type_amount) # I så fall returnerer du heltallsversjonen av denne.\n",
    "    return 0 # Hvis ikke funnet noen riktig vare\n",
    "\n",
    "vinfo = ['Vetle', 'kaffe:80', 'ost:120', 'melk:150']\n",
    "print(find_good(vinfo, 'ost'))"
   ]
  },
  {
   "cell_type": "markdown",
   "metadata": {},
   "source": [
    "### Hva gjør koden?\n",
    "Her skal vi lete igjennom etter noe spesifikt, så en typisk løkke.\n",
    "- Merk at vi hopper over det første elementet av plist - da dette er navnet.\n",
    "- Man kan gjerne kjøre en *v1, v2 = split(foo)* hvis splitten ender opp i to elementer.\n",
    "- Man skulle returnere tallet, ikke strengen, så *int()* må brukes.\n",
    "- Ellers en rimelig enkel søk og returner."
   ]
  },
  {
   "cell_type": "markdown",
   "metadata": {},
   "source": [
    "## Oppgave 18 - Finn vare for en bestemt person (4%)\n",
    "Nå som du kan finne varen gitt en person, så kan du gå videre til å hente ut en spesifikk vare for en gitt person i register.\n",
    "\n",
    "Funksjonen *find_imported_good(register, name, good)* har tre parametre: register (persondataene), navnet på personen som står på grensen, og varetypen som hen forsøker å få inn i landet. Funksjonen har følgende krav:\n",
    "- Funksjonen skal returnere mengden av good som denne personen har importert fra før, eller 0 hvis personen ikke har importert noe av denne varen.\n",
    "- Funksjonen skal også returnere 0 hvis personen ikke er registrert tidligere.\n",
    "\n",
    "Eksempel:\n",
    "```python\n",
    ">>> find_imported_good(register, 'Vetle', 'ost')\n",
    "120\n",
    "```"
   ]
  },
  {
   "cell_type": "code",
   "execution_count": 82,
   "metadata": {},
   "outputs": [
    {
     "name": "stdout",
     "output_type": "stream",
     "text": [
      "120\n"
     ]
    }
   ],
   "source": [
    "def find_imported_good(register, name, good):\n",
    "    for person_data in register:\n",
    "        if person_data[0] == name: # Vi har korrekt navn på plass 0 i feks ['Vetle', 'kaffe:80', 'ost:120', 'melk:150']\n",
    "            return find_good(person_data, good)\n",
    "    return 0\n",
    "\n",
    "print(find_imported_good(register, 'Vetle', 'ost'))"
   ]
  },
  {
   "cell_type": "markdown",
   "metadata": {},
   "source": [
    "### Hva gjør koden?\n",
    "Vi skal lete igjennom *register* på jakt etter *name*. Finnes denne skal vi så lete etter *good*.\n",
    "Ok, det enkleste her er å først lete i register etter riktig navn. Finner vi ikke noe korrekt navn så returnerer vi 0, som kravet sier. Hvis vi derimot *finner* korrekt navn, da er den enkleste løsningen å returnere et funksjonskall til find_good fra oppgave 17. Denne var jo skrevet for å returnere enten verdi, eller 0 hvis varen ikke finnes."
   ]
  },
  {
   "cell_type": "markdown",
   "metadata": {},
   "source": [
    "# Oppgave 19 - Registrering av ny import (5%)\n",
    "Når noen vil ha med seg en vare inn i Miramarmora så vil grensevaktene gå igjennom hver eneste vare og sjekke om personen har lov til å ta med seg denne inn i landet. Til registreringen brukes funksjonen register_good(rules, register, name, good, amount) Argumentene er:\n",
    "- *rules*: Lovlig total mengde av vare per person.\n",
    "- *register*: Registeret over importerte varer til nå.\n",
    "- *name*: Navnet på personen som nå ønsker å importere\n",
    "- *good*: typen vare\n",
    "- *amount*: Mengden vare som ønskes importert\n",
    "\n",
    "\n",
    "Funksjonen har følgende krav:\n",
    "- Dersom personen med den nye mengden fremdeles vil ligge under maksimal mengde importert totalt, så skal register oppdateres med den nye totalverdien for import av denne typen vare for denne personen.\n",
    "- Dersom denne grensen overskrides så skal det skrives ut et avslag, og register skal være som før. Teksten i avslaget er ikke superviktig at er helt likt som i forslaget under. Vakten vet hva det gjelder.\n",
    "- Hvis en person har med for mye av en vare, så kan ikke deler av den innføres opp til grensen. Det er enten å få med alt eller ikke noe.\n",
    "Funksjonen skal returnere (en potensielt oppdatert variant av) *register*.\n",
    "\n",
    "Eksempel:\n",
    "```python\n",
    ">>> register = register_good(rules, register, 'Vetle', 'ost', 20)\n",
    ">>> find_imported_good(register, 'Vetle', 'ost')\n",
    "140 # Den var 120 før\n",
    ">>> register = register_good(rules, register, 'Vetle', 'ost', 20)\n",
    "Vetle vil overskride grensen, og får dermed ikke importere ost.\n",
    ">>> find_imported_good(register, 'Vetle', 'ost')\n",
    "140\n",
    "```"
   ]
  },
  {
   "cell_type": "code",
   "execution_count": 83,
   "metadata": {},
   "outputs": [
    {
     "name": "stdout",
     "output_type": "stream",
     "text": [
      "Før:  120\n",
      "1: 140\n",
      "Vetle vil overskride grensen, og får dermed ikke importere ost.\n",
      "2: 140\n",
      "[['Vetle', 'kaffe:80', 'ost:140', 'melk:150'], ['Alice', 'ost:50', 'sjokolade:30', 'melk:50'], ['Charlie', 'kaffe:50', 'ost:80', 'melk:100']]\n"
     ]
    }
   ],
   "source": [
    "def register_good(rules, register, name, good, amount):\n",
    "    already_imported = find_imported_good(register, name, good)\n",
    "    if already_imported + amount > rules[good]:\n",
    "        print(f\"{name} vil overskride grensen, og får dermed ikke importere {good}.\")\n",
    "        return register\n",
    "    \n",
    "    # Vi fikk lov! Nå må vi oppdatere register\n",
    "    for i in range(len(register)):\n",
    "        # Finne riktig person\n",
    "        if register[i][0] == name:\n",
    "            # Finne riktig vare, huske å hoppe over navnet\n",
    "            if already_imported == 0: # Først import. Trenger ikke søke i strengene\n",
    "                register[i].append(good+\":\"+str(amount))\n",
    "            else:\n",
    "                for j in range (1, len(register[i])):\n",
    "                    if register[i][j].split(\":\")[0] == good:\n",
    "                        found = True\n",
    "                        register[i][j] = good+\":\"+str(already_imported+amount)\n",
    "\n",
    "    return register\n",
    "\n",
    "print(\"Før: \",find_imported_good(register, 'Vetle', 'ost'))\n",
    "register = register_good(rules, register, 'Vetle', 'ost', 20)\n",
    "print(\"1:\", find_imported_good(register, 'Vetle', 'ost'))\n",
    "register = register_good(rules, register, 'Vetle', 'ost', 20)\n",
    "print(\"2:\", find_imported_good(register, 'Vetle', 'ost'))\n",
    "# register = register_good(rules, register, 'Vetle', 'kjeks', 20) # Første kjeks\n",
    "# print(\"2:\", find_imported_good(register, 'Vetle', 'kjeks'))\n",
    "print(register)"
   ]
  },
  {
   "cell_type": "markdown",
   "metadata": {},
   "source": [
    "### Hva gjør koden?\n",
    "- Det første vi gjør er å finne ut om den potensielle importen vil medføre over maksgrensen. (linjene). Hvis den er det, skriv ut beskjed og returner *register*.\n",
    "- Hvis personen kan innføre den nye mengden, så må vi legge til den nye verdien i *register*.\n",
    "- Det finnes ingen tidligere metode som gjør nettopp dette - den nærmeste vi kommer er den som finner ut hvor mye som allerede er importert. (Denne funksjonen er for øvrig brukt for å løse første kulepunkt, og er lagret i *already_imported*.)\n",
    "- Vi må derfor kode denne biten selv. \n",
    "- Når vi leter igjennom en personene for å oppdatere til en ny verdi kan vi først sjekke om personen har importert denne varen før - i så fall er jo already_imported > 0! Hvis den er 0 trenger vi kun å legge til et nytt element, *good:amount*.\n",
    "- Hvis det allerede er importert noe, da må en lete seg igjennom varene for den riktige personen og så oppdateres strengen til tidligere import pluss denne.\n",
    "- Denne oppgaven kan løses på svært mange måter!\n",
    "- *Merk at det var et par punkt som ikke var klargjort her. Det står ikke noe om hva en skal gjøre hvis det dukker opp en helt ny person. Du vil kunne få full skår uavhengig av om du har implementert denne eller ikke.*"
   ]
  },
  {
   "cell_type": "markdown",
   "metadata": {},
   "source": [
    "## Oppgave 20 - Oversikt\n",
    "Faraoen ønsker en oversikt over den totale mengden varer som er importert, sannsynligvis for å kunne gjøre endringer på reglene for grenser ellerno. Til dette skal du lage funksjonen *imported_goods(register, rules)*. Funksjonen har to parametre (register og rules som i tidligere oppgaver) og har følgende krav til leveranse:\n",
    "\n",
    "- Funksjonen skal samle inn all import av hver vare fra alle personer.\n",
    "- Du kan forutsette at man ikke kan ha importert varer som ikke er med i rules.\n",
    "- Funksjonen skal returnere en liste med tupler. Hvert tuppel skal bestå av to verdier: *(good, total_amount)*.\n",
    "- Hvis det ikke er importert noe av en vare skal denne representeres med verdi 0.\n",
    "\n",
    "Eksempel:\n",
    "```python\n",
    ">>> print(imported_goods(register))\n",
    "[('kaffe', 130), ('ost', 270), ('sjokolade', 30), ('melk', 300), ('kjeks', 0)]\n",
    "``` "
   ]
  },
  {
   "cell_type": "code",
   "execution_count": 84,
   "metadata": {},
   "outputs": [
    {
     "name": "stdout",
     "output_type": "stream",
     "text": [
      "[('kaffe', 130), ('ost', 270), ('sjokolade', 30), ('melk', 300), ('kjeks', 0)]\n"
     ]
    }
   ],
   "source": [
    "def imported_goods(register, rules):\n",
    "    imported = {}\n",
    "    for good in rules: # Disse to for-løkkene kan en godt gjøre i hvilken rekkefølge en vil.\n",
    "        for name in who_imports(register):\n",
    "            imported[good] = imported.get(good, 0) + find_imported_good(register, name, good)\n",
    "    out = []\n",
    "    for good in imported:\n",
    "        out.append((good, imported[good]))\n",
    "        # print(f\"Det er totalt importert {imported[good]} {good}.\")\n",
    "    return out\n",
    "\n",
    "i_g = imported_goods(register, rules)\n",
    "print(i_g)\n"
   ]
  },
  {
   "cell_type": "markdown",
   "metadata": {},
   "source": [
    "### Hva gjør koden?\n",
    "Kravene til *imported_goods* gjør en del klart: \n",
    "- Siden ikke-importerte varer skal vises, så må vi gå igjennom alle varetypene i *rules*.\n",
    "- For hver av disse må vi finne ut hvor mye som er importert.\n",
    "- Denne kombinasjonen må så, uavhengig av hvordan den er representert i mellomtiden, returneres som en liste med tupler (vare, mengde).\n",
    "\n",
    "I løsningsforslaget gjøres dette ved \n",
    "- først å iterere over alle typer varer. Deretter spør vi, for hver av varetypene, hvor mye hver enkelt av personene som er definert i datasettet, har importert av denne varen. Dette oppdateres i en dictionary. \n",
    "- Hvert nøkkel/verdi-par legges så inn i en liste, som tupler, som så returneres.\n",
    "- Merk at dette er en løsning som er rimelig enkelt å forstå, men ikke nødvendigvis den mest optimale. Vi går igjennom samme datamengde mange ganger. Dette er derimot ikke en superviktig ting i dette faget, det blir mer enn nok slikt senere. Husk også at https://stackify.com/premature-optimization-evil/.\n"
   ]
  },
  {
   "cell_type": "markdown",
   "metadata": {},
   "source": [
    "## Oppgave 21 - Knus monopolene (4%)\n",
    "Faraoen er notorisk streng mot monopolister - andre enn ham selv, selvfølgelig. Derfor skal han jevnlig få lest opp en liste over hvem som er registrert som den eneste personen som importerer et gitt produkt. Dette skal gjøres via funksjonen *store_monopolists(register, rules, file_name)*. Parametere som vanlig, *filnavn* refererer til en streng. Følgende krav skal stilles av funksjonen:\n",
    "- Hvis parameteren file_name er 'fil.txt' skal det skrives til en fil med dette navnet, i samme mappe som programmet.\n",
    "- Hvis filen finnes der fra før skal den bare skrives over. Faraoen har gode backuprutiner.\n",
    "- Det som skal lagres til fil er de varene der bare én person står registrert som importør. Det kan gjerne ha skjedd over flere importer, men det skal altså kun være ett navn.\n",
    "- En vare som ikke har noen import skal ikke vises i filen.\n",
    "- Filen skal lages på følgende format, med én linje for hver vare som er monopolisert: \n",
    "    - varetype, personnavn, importert mengde\n",
    "\n",
    "Eksempel:\n",
    "```python\n",
    ">>> print(store_monopolists(register, rules, \"monopolists.txt\"))\n",
    "\n",
    "# Lager en fil 'monopolists.txt' som inneholder følgende linje \n",
    "# (bare Alice liker sjokolade liksom, noe muffens her!)\n",
    "Alice, sjokolade, 30\n",
    "``` "
   ]
  },
  {
   "cell_type": "code",
   "execution_count": 91,
   "metadata": {},
   "outputs": [
    {
     "name": "stdout",
     "output_type": "stream",
     "text": [
      "Alice, sjokolade, 30\n"
     ]
    }
   ],
   "source": [
    "def store_monopolists(register, rules, file_name):\n",
    "    # Denne kan vi løse ved å først skaffe en oversikt over hvem som importerer:\n",
    "    names = who_imports(register)\n",
    "    imported = imported_goods(register, rules)\n",
    "\n",
    "    # Så må vi gå igjennom hver person, og for hver av dem sjekke om deres import er akkurat lik med total.\n",
    "    # Det kan vi gjøre inni open, så vi slipper å åpne den filen flere ganger.\n",
    "    with open(file_name , 'w') as f:\n",
    "        for name in names:\n",
    "            for good, amount in imported:\n",
    "                # print(f\"{name}, {good}, {amount}, {find_imported_good(register, name, good)}\")\n",
    "                # Sjekke om denne personen har importert ALT som er importert, og om dette er mer enn 0:\n",
    "                if find_imported_good(register, name, good) == amount and amount != 0:\n",
    "                    f.write(f\"{name}, {good}, {amount}\")\n",
    "                    print(f\"{name}, {good}, {amount}\")\n",
    "\n",
    "store_monopolists(register, rules, \"monopolists.txt\")"
   ]
  },
  {
   "cell_type": "markdown",
   "metadata": {},
   "source": [
    "### Hva gjør koden?\n",
    "Dette kan også gjøres på mange ulike måter, dette er bare et eksempel som er rimelig enkelt å forstå. Man kan absolutt lage en løsning som er raskere å kverne igjennom!\n",
    "- Først finner vi alle navn som kan importere med *who_imports*, og legger dette inn i *names*\n",
    "- Deretter finner vi alt som er importert av hver vare med *imported_goods*, og legger dette inn i *imported*.\n",
    "- Så åpner vi en fil for skriving.\n",
    "    - Vi går igjennom alle navn.\n",
    "        - For hver av disse går vi igjennom alle varene som er importert, og sjekker om mengden som er importert er lik mengden som er importert totalt.\n",
    "        - Vi må også huske på å sjekke om denne mengden er lik 0, fordi en ellers får disse med i filen.\n",
    "        - Skriv så til fil.\n",
    "- *Merk også at det er en feil i eksempelet, rekkefølgen på de tre elementene er ulik det som står i punktlisten. Ved sensur vil begge disse løsningene gi poeng.*"
   ]
  }
 ],
 "metadata": {
  "kernelspec": {
   "display_name": "base",
   "language": "python",
   "name": "python3"
  },
  "language_info": {
   "codemirror_mode": {
    "name": "ipython",
    "version": 3
   },
   "file_extension": ".py",
   "mimetype": "text/x-python",
   "name": "python",
   "nbconvert_exporter": "python",
   "pygments_lexer": "ipython3",
   "version": "3.9.7"
  }
 },
 "nbformat": 4,
 "nbformat_minor": 2
}
